{
 "cells": [
  {
   "cell_type": "code",
   "execution_count": 1,
   "metadata": {
    "id": "HhBXFyo5BJLE"
   },
   "outputs": [],
   "source": [
    "# Importing necessary libraries, python files containing functions to create model, fetch data\n",
    "import torch\n",
    "torch.manual_seed(17)\n",
    "\n",
    "import numpy as np\n",
    "from torchsummary import summary\n",
    "from tqdm import tqdm\n",
    "import matplotlib.pyplot as plt\n",
    "\n",
    "from DataCollector import DataCollector\n",
    "from resnet_model import *"
   ]
  },
  {
   "cell_type": "code",
   "execution_count": 2,
   "metadata": {
    "colab": {
     "base_uri": "https://localhost:8080/"
    },
    "id": "8kYrdwYFBRnI",
    "outputId": "f4ccdcf5-a11e-4a41-9763-d02f30315b2c"
   },
   "outputs": [
    {
     "name": "stdout",
     "output_type": "stream",
     "text": [
      "cuda\n"
     ]
    }
   ],
   "source": [
    "# Check available device\n",
    "device = torch.device(\"cuda\" if torch.cuda.is_available() else \"cpu\")\n",
    "print(device)"
   ]
  },
  {
   "cell_type": "code",
   "execution_count": 3,
   "metadata": {
    "colab": {
     "base_uri": "https://localhost:8080/"
    },
    "id": "1hXxWG-TBTFD",
    "outputId": "f7559ff7-cc44-4942-df6d-9d69fce11ec0"
   },
   "outputs": [
    {
     "name": "stdout",
     "output_type": "stream",
     "text": [
      "Initializing fetching CIFAR10 dataset using torchvision\n",
      "Downloading https://www.cs.toronto.edu/~kriz/cifar-10-python.tar.gz to ./data/cifar-10-python.tar.gz\n"
     ]
    },
    {
     "name": "stderr",
     "output_type": "stream",
     "text": [
      "100%|██████████| 170498071/170498071 [00:02<00:00, 67387710.39it/s]\n"
     ]
    },
    {
     "name": "stdout",
     "output_type": "stream",
     "text": [
      "Extracting ./data/cifar-10-python.tar.gz to ./data\n",
      "Files already downloaded and verified\n",
      "Files already downloaded and verified\n"
     ]
    }
   ],
   "source": [
    "# Fetching Dataset\n",
    "df = DataCollector(dataset=\"CIFAR10\", batch_size=128)\n",
    "df.add_Horizontal_Flip()\n",
    "df.add_Random_Crop(size=32, padding=4)\n",
    "df.add_Normalizer()\n",
    "trainLoader, testLoader = df.fetch_Loaders()"
   ]
  },
  {
   "cell_type": "code",
   "execution_count": null,
   "metadata": {
    "colab": {
     "base_uri": "https://localhost:8080/"
    },
    "id": "XryiUM3dBUsF",
    "outputId": "6496df10-e892-49c5-fe6c-6e8cba1f7c68"
   },
   "outputs": [
    {
     "name": "stdout",
     "output_type": "stream",
     "text": [
      "----------------------------------------------------------------\n",
      "        Layer (type)               Output Shape         Param #\n",
      "================================================================\n",
      "            Conv2d-1           [-1, 32, 32, 32]             896\n",
      "       BatchNorm2d-2           [-1, 32, 32, 32]              64\n",
      "            Conv2d-3           [-1, 32, 32, 32]           9,248\n",
      "       BatchNorm2d-4           [-1, 32, 32, 32]              64\n",
      "            Conv2d-5           [-1, 32, 32, 32]           9,248\n",
      "       BatchNorm2d-6           [-1, 32, 32, 32]              64\n",
      "        BasicBlock-7           [-1, 32, 32, 32]               0\n",
      "            Conv2d-8           [-1, 32, 32, 32]           9,248\n",
      "       BatchNorm2d-9           [-1, 32, 32, 32]              64\n",
      "           Conv2d-10           [-1, 32, 32, 32]           9,248\n",
      "      BatchNorm2d-11           [-1, 32, 32, 32]              64\n",
      "       BasicBlock-12           [-1, 32, 32, 32]               0\n",
      "           Conv2d-13           [-1, 64, 16, 16]          18,496\n",
      "      BatchNorm2d-14           [-1, 64, 16, 16]             128\n",
      "           Conv2d-15           [-1, 64, 16, 16]          36,928\n",
      "      BatchNorm2d-16           [-1, 64, 16, 16]             128\n",
      "           Conv2d-17           [-1, 64, 16, 16]           2,112\n",
      "      BatchNorm2d-18           [-1, 64, 16, 16]             128\n",
      "       BasicBlock-19           [-1, 64, 16, 16]               0\n",
      "           Conv2d-20           [-1, 64, 16, 16]          36,928\n",
      "      BatchNorm2d-21           [-1, 64, 16, 16]             128\n",
      "           Conv2d-22           [-1, 64, 16, 16]          36,928\n",
      "      BatchNorm2d-23           [-1, 64, 16, 16]             128\n",
      "       BasicBlock-24           [-1, 64, 16, 16]               0\n",
      "           Conv2d-25            [-1, 128, 8, 8]          73,856\n",
      "      BatchNorm2d-26            [-1, 128, 8, 8]             256\n",
      "           Conv2d-27            [-1, 128, 8, 8]         147,584\n",
      "      BatchNorm2d-28            [-1, 128, 8, 8]             256\n",
      "           Conv2d-29            [-1, 128, 8, 8]           8,320\n",
      "      BatchNorm2d-30            [-1, 128, 8, 8]             256\n",
      "       BasicBlock-31            [-1, 128, 8, 8]               0\n",
      "           Conv2d-32            [-1, 128, 8, 8]         147,584\n",
      "      BatchNorm2d-33            [-1, 128, 8, 8]             256\n",
      "           Conv2d-34            [-1, 128, 8, 8]         147,584\n",
      "      BatchNorm2d-35            [-1, 128, 8, 8]             256\n",
      "       BasicBlock-36            [-1, 128, 8, 8]               0\n",
      "           Conv2d-37            [-1, 256, 4, 4]         295,168\n",
      "      BatchNorm2d-38            [-1, 256, 4, 4]             512\n",
      "           Conv2d-39            [-1, 256, 4, 4]         590,080\n",
      "      BatchNorm2d-40            [-1, 256, 4, 4]             512\n",
      "           Conv2d-41            [-1, 256, 4, 4]          33,024\n",
      "      BatchNorm2d-42            [-1, 256, 4, 4]             512\n",
      "       BasicBlock-43            [-1, 256, 4, 4]               0\n",
      "           Conv2d-44            [-1, 256, 4, 4]         590,080\n",
      "      BatchNorm2d-45            [-1, 256, 4, 4]             512\n",
      "           Conv2d-46            [-1, 256, 4, 4]         590,080\n",
      "      BatchNorm2d-47            [-1, 256, 4, 4]             512\n",
      "       BasicBlock-48            [-1, 256, 4, 4]               0\n",
      "           Linear-49                   [-1, 10]           2,570\n",
      "================================================================\n",
      "Total params: 2,800,010\n",
      "Trainable params: 2,800,010\n",
      "Non-trainable params: 0\n",
      "----------------------------------------------------------------\n",
      "Input size (MB): 0.01\n",
      "Forward/backward pass size (MB): 5.63\n",
      "Params size (MB): 10.68\n",
      "Estimated Total Size (MB): 16.32\n",
      "----------------------------------------------------------------\n",
      "None\n"
     ]
    }
   ],
   "source": [
    "# Get Model\n",
    "model = resnet_model()\n",
    "model = model.to(device)\n",
    "print(summary(model, input_size=(3, 32, 32)))"
   ]
  },
  {
   "cell_type": "code",
   "execution_count": null,
   "metadata": {
    "id": "ALxqSnnfBW-3"
   },
   "outputs": [],
   "source": [
    "# Setting up training\n",
    "EPOCHS=250\n",
    "globalBestAccuracy = 0.0\n",
    "training_loss = []\n",
    "testing_loss = []\n",
    "training_accuracy = []\n",
    "testing_accuracy = []"
   ]
  },
  {
   "cell_type": "code",
   "execution_count": null,
   "metadata": {
    "colab": {
     "base_uri": "https://localhost:8080/"
    },
    "id": "-VPFplvKCWet",
    "outputId": "5315b830-9368-4268-f581-99a3b7d0b1c7"
   },
   "outputs": [
    {
     "name": "stdout",
     "output_type": "stream",
     "text": [
      "ResNet(\n",
      "  (conv1): Conv2d(3, 32, kernel_size=(3, 3), stride=(1, 1), padding=(1, 1))\n",
      "  (bn1): BatchNorm2d(32, eps=1e-05, momentum=0.1, affine=True, track_running_stats=True)\n",
      "  (layer1): Sequential(\n",
      "    (0): BasicBlock(\n",
      "      (conv1): Conv2d(32, 32, kernel_size=(3, 3), stride=(1, 1), padding=(1, 1))\n",
      "      (bn1): BatchNorm2d(32, eps=1e-05, momentum=0.1, affine=True, track_running_stats=True)\n",
      "      (conv2): Conv2d(32, 32, kernel_size=(3, 3), stride=(1, 1), padding=(1, 1))\n",
      "      (bn2): BatchNorm2d(32, eps=1e-05, momentum=0.1, affine=True, track_running_stats=True)\n",
      "      (shortcut): Sequential()\n",
      "    )\n",
      "    (1): BasicBlock(\n",
      "      (conv1): Conv2d(32, 32, kernel_size=(3, 3), stride=(1, 1), padding=(1, 1))\n",
      "      (bn1): BatchNorm2d(32, eps=1e-05, momentum=0.1, affine=True, track_running_stats=True)\n",
      "      (conv2): Conv2d(32, 32, kernel_size=(3, 3), stride=(1, 1), padding=(1, 1))\n",
      "      (bn2): BatchNorm2d(32, eps=1e-05, momentum=0.1, affine=True, track_running_stats=True)\n",
      "      (shortcut): Sequential()\n",
      "    )\n",
      "  )\n",
      "  (layer2): Sequential(\n",
      "    (0): BasicBlock(\n",
      "      (conv1): Conv2d(32, 64, kernel_size=(3, 3), stride=(2, 2), padding=(1, 1))\n",
      "      (bn1): BatchNorm2d(64, eps=1e-05, momentum=0.1, affine=True, track_running_stats=True)\n",
      "      (conv2): Conv2d(64, 64, kernel_size=(3, 3), stride=(1, 1), padding=(1, 1))\n",
      "      (bn2): BatchNorm2d(64, eps=1e-05, momentum=0.1, affine=True, track_running_stats=True)\n",
      "      (shortcut): Sequential(\n",
      "        (0): Conv2d(32, 64, kernel_size=(1, 1), stride=(2, 2))\n",
      "        (1): BatchNorm2d(64, eps=1e-05, momentum=0.1, affine=True, track_running_stats=True)\n",
      "      )\n",
      "    )\n",
      "    (1): BasicBlock(\n",
      "      (conv1): Conv2d(64, 64, kernel_size=(3, 3), stride=(1, 1), padding=(1, 1))\n",
      "      (bn1): BatchNorm2d(64, eps=1e-05, momentum=0.1, affine=True, track_running_stats=True)\n",
      "      (conv2): Conv2d(64, 64, kernel_size=(3, 3), stride=(1, 1), padding=(1, 1))\n",
      "      (bn2): BatchNorm2d(64, eps=1e-05, momentum=0.1, affine=True, track_running_stats=True)\n",
      "      (shortcut): Sequential()\n",
      "    )\n",
      "  )\n",
      "  (layer3): Sequential(\n",
      "    (0): BasicBlock(\n",
      "      (conv1): Conv2d(64, 128, kernel_size=(3, 3), stride=(2, 2), padding=(1, 1))\n",
      "      (bn1): BatchNorm2d(128, eps=1e-05, momentum=0.1, affine=True, track_running_stats=True)\n",
      "      (conv2): Conv2d(128, 128, kernel_size=(3, 3), stride=(1, 1), padding=(1, 1))\n",
      "      (bn2): BatchNorm2d(128, eps=1e-05, momentum=0.1, affine=True, track_running_stats=True)\n",
      "      (shortcut): Sequential(\n",
      "        (0): Conv2d(64, 128, kernel_size=(1, 1), stride=(2, 2))\n",
      "        (1): BatchNorm2d(128, eps=1e-05, momentum=0.1, affine=True, track_running_stats=True)\n",
      "      )\n",
      "    )\n",
      "    (1): BasicBlock(\n",
      "      (conv1): Conv2d(128, 128, kernel_size=(3, 3), stride=(1, 1), padding=(1, 1))\n",
      "      (bn1): BatchNorm2d(128, eps=1e-05, momentum=0.1, affine=True, track_running_stats=True)\n",
      "      (conv2): Conv2d(128, 128, kernel_size=(3, 3), stride=(1, 1), padding=(1, 1))\n",
      "      (bn2): BatchNorm2d(128, eps=1e-05, momentum=0.1, affine=True, track_running_stats=True)\n",
      "      (shortcut): Sequential()\n",
      "    )\n",
      "  )\n",
      "  (layer4): Sequential(\n",
      "    (0): BasicBlock(\n",
      "      (conv1): Conv2d(128, 256, kernel_size=(3, 3), stride=(2, 2), padding=(1, 1))\n",
      "      (bn1): BatchNorm2d(256, eps=1e-05, momentum=0.1, affine=True, track_running_stats=True)\n",
      "      (conv2): Conv2d(256, 256, kernel_size=(3, 3), stride=(1, 1), padding=(1, 1))\n",
      "      (bn2): BatchNorm2d(256, eps=1e-05, momentum=0.1, affine=True, track_running_stats=True)\n",
      "      (shortcut): Sequential(\n",
      "        (0): Conv2d(128, 256, kernel_size=(1, 1), stride=(2, 2))\n",
      "        (1): BatchNorm2d(256, eps=1e-05, momentum=0.1, affine=True, track_running_stats=True)\n",
      "      )\n",
      "    )\n",
      "    (1): BasicBlock(\n",
      "      (conv1): Conv2d(256, 256, kernel_size=(3, 3), stride=(1, 1), padding=(1, 1))\n",
      "      (bn1): BatchNorm2d(256, eps=1e-05, momentum=0.1, affine=True, track_running_stats=True)\n",
      "      (conv2): Conv2d(256, 256, kernel_size=(3, 3), stride=(1, 1), padding=(1, 1))\n",
      "      (bn2): BatchNorm2d(256, eps=1e-05, momentum=0.1, affine=True, track_running_stats=True)\n",
      "      (shortcut): Sequential()\n",
      "    )\n",
      "  )\n",
      "  (linear): Linear(in_features=256, out_features=10, bias=True)\n",
      ")\n",
      "Total Trainable Parameters : 2800010\n"
     ]
    }
   ],
   "source": [
    "# Defining Loss Function, Learning Rate, Weight Decay, Optimizer) \n",
    "lossFunction = torch.nn.CrossEntropyLoss(reduction='sum')\n",
    "learningRate = 0.01\n",
    "weightDecay = 0.0001\n",
    "\n",
    "optimizer = torch.optim.Adadelta(model.parameters(), lr=learningRate, weight_decay=weightDecay)\n",
    "scheduler = torch.optim.lr_scheduler.CosineAnnealingLR(optimizer, EPOCHS, eta_min=learningRate/10.0)\n",
    "\n",
    "print(model.eval())\n",
    "\n",
    "trainable_parameters = sum(p.numel() for p in model.parameters() if p.requires_grad)\n",
    "print(\"Total Trainable Parameters : %s\"%(trainable_parameters))\n",
    "\n",
    "if trainable_parameters > 5*(10**6):\n",
    "    raise Exception(\"Model not under budget!\")"
   ]
  },
  {
   "cell_type": "code",
   "execution_count": null,
   "metadata": {
    "colab": {
     "base_uri": "https://localhost:8080/"
    },
    "id": "rRJduSfL8s9h",
    "outputId": "57440874-4f15-4a85-ec7a-39d39a4f020b"
   },
   "outputs": [
    {
     "name": "stderr",
     "output_type": "stream",
     "text": [
      "  0%|          | 1/250 [00:26<1:51:51, 26.95s/it]"
     ]
    },
    {
     "name": "stdout",
     "output_type": "stream",
     "text": [
      "Training Loss : 1.6343954931640625, Testing Loss : 1.5071948650360107, Training Accuracy : 0.3902, Testing Accuracy : 0.4609\n"
     ]
    },
    {
     "name": "stderr",
     "output_type": "stream",
     "text": [
      "\r",
      "  1%|          | 2/250 [00:53<1:50:39, 26.77s/it]"
     ]
    },
    {
     "name": "stdout",
     "output_type": "stream",
     "text": [
      "Training Loss : 1.394906949005127, Testing Loss : 1.2838241411209106, Training Accuracy : 0.49046, Testing Accuracy : 0.5334\n"
     ]
    },
    {
     "name": "stderr",
     "output_type": "stream",
     "text": [
      "\r",
      "  1%|          | 3/250 [01:19<1:49:27, 26.59s/it]"
     ]
    },
    {
     "name": "stdout",
     "output_type": "stream",
     "text": [
      "Training Loss : 1.2204452990722656, Testing Loss : 1.1571331296920777, Training Accuracy : 0.55888, Testing Accuracy : 0.5883\n"
     ]
    },
    {
     "name": "stderr",
     "output_type": "stream",
     "text": [
      "\r",
      "  2%|▏         | 4/250 [01:46<1:48:16, 26.41s/it]"
     ]
    },
    {
     "name": "stdout",
     "output_type": "stream",
     "text": [
      "Training Loss : 1.0867668423461914, Testing Loss : 1.0372467853546143, Training Accuracy : 0.61158, Testing Accuracy : 0.6285\n"
     ]
    },
    {
     "name": "stderr",
     "output_type": "stream",
     "text": [
      "\r",
      "  2%|▏         | 5/250 [02:12<1:47:29, 26.32s/it]"
     ]
    },
    {
     "name": "stdout",
     "output_type": "stream",
     "text": [
      "Training Loss : 0.979094700012207, Testing Loss : 1.0137272743225099, Training Accuracy : 0.6519, Testing Accuracy : 0.6439\n"
     ]
    },
    {
     "name": "stderr",
     "output_type": "stream",
     "text": [
      "\r",
      "  2%|▏         | 6/250 [02:38<1:46:47, 26.26s/it]"
     ]
    },
    {
     "name": "stdout",
     "output_type": "stream",
     "text": [
      "Training Loss : 0.8955542794799805, Testing Loss : 0.953379204750061, Training Accuracy : 0.68214, Testing Accuracy : 0.6725\n"
     ]
    },
    {
     "name": "stderr",
     "output_type": "stream",
     "text": [
      "\r",
      "  3%|▎         | 7/250 [03:04<1:46:11, 26.22s/it]"
     ]
    },
    {
     "name": "stdout",
     "output_type": "stream",
     "text": [
      "Training Loss : 0.8183156617736816, Testing Loss : 0.7955819082260132, Training Accuracy : 0.71214, Testing Accuracy : 0.7243\n"
     ]
    },
    {
     "name": "stderr",
     "output_type": "stream",
     "text": [
      "\r",
      "  3%|▎         | 8/250 [03:31<1:46:03, 26.30s/it]"
     ]
    },
    {
     "name": "stdout",
     "output_type": "stream",
     "text": [
      "Training Loss : 0.7507552093505859, Testing Loss : 0.7481962648391723, Training Accuracy : 0.73348, Testing Accuracy : 0.7401\n"
     ]
    },
    {
     "name": "stderr",
     "output_type": "stream",
     "text": [
      "\r",
      "  4%|▎         | 9/250 [03:57<1:45:26, 26.25s/it]"
     ]
    },
    {
     "name": "stdout",
     "output_type": "stream",
     "text": [
      "Training Loss : 0.6909528308105469, Testing Loss : 0.7556544931411743, Training Accuracy : 0.7571, Testing Accuracy : 0.7414\n"
     ]
    },
    {
     "name": "stderr",
     "output_type": "stream",
     "text": [
      "\r",
      "  4%|▍         | 10/250 [04:23<1:44:54, 26.23s/it]"
     ]
    },
    {
     "name": "stdout",
     "output_type": "stream",
     "text": [
      "Training Loss : 0.6492873732757568, Testing Loss : 0.6918235632896423, Training Accuracy : 0.77452, Testing Accuracy : 0.764\n"
     ]
    },
    {
     "name": "stderr",
     "output_type": "stream",
     "text": [
      "\r",
      "  4%|▍         | 11/250 [04:49<1:44:58, 26.35s/it]"
     ]
    },
    {
     "name": "stdout",
     "output_type": "stream",
     "text": [
      "Training Loss : 0.6063681935882569, Testing Loss : 0.656234429359436, Training Accuracy : 0.78986, Testing Accuracy : 0.7758\n"
     ]
    },
    {
     "name": "stderr",
     "output_type": "stream",
     "text": [
      "\r",
      "  5%|▍         | 12/250 [05:17<1:45:22, 26.56s/it]"
     ]
    },
    {
     "name": "stdout",
     "output_type": "stream",
     "text": [
      "Training Loss : 0.5698451664733887, Testing Loss : 0.6516445344924927, Training Accuracy : 0.80314, Testing Accuracy : 0.7814\n"
     ]
    },
    {
     "name": "stderr",
     "output_type": "stream",
     "text": [
      "\r",
      "  5%|▌         | 13/250 [05:43<1:44:53, 26.55s/it]"
     ]
    },
    {
     "name": "stdout",
     "output_type": "stream",
     "text": [
      "Training Loss : 0.5434609471130372, Testing Loss : 0.6006057459831238, Training Accuracy : 0.8122, Testing Accuracy : 0.7975\n"
     ]
    },
    {
     "name": "stderr",
     "output_type": "stream",
     "text": [
      "\r",
      "  6%|▌         | 14/250 [06:09<1:44:17, 26.51s/it]"
     ]
    },
    {
     "name": "stdout",
     "output_type": "stream",
     "text": [
      "Training Loss : 0.5191209704589844, Testing Loss : 0.5716585751056671, Training Accuracy : 0.82028, Testing Accuracy : 0.8061\n"
     ]
    },
    {
     "name": "stderr",
     "output_type": "stream",
     "text": [
      "\r",
      "  6%|▌         | 15/250 [06:36<1:43:44, 26.49s/it]"
     ]
    },
    {
     "name": "stdout",
     "output_type": "stream",
     "text": [
      "Training Loss : 0.4877896686553955, Testing Loss : 0.5705804065227509, Training Accuracy : 0.83212, Testing Accuracy : 0.8068\n"
     ]
    },
    {
     "name": "stderr",
     "output_type": "stream",
     "text": [
      "\r",
      "  6%|▋         | 16/250 [07:02<1:43:07, 26.44s/it]"
     ]
    },
    {
     "name": "stdout",
     "output_type": "stream",
     "text": [
      "Training Loss : 0.46701219650268555, Testing Loss : 0.5985832470178604, Training Accuracy : 0.83908, Testing Accuracy : 0.7976\n"
     ]
    },
    {
     "name": "stderr",
     "output_type": "stream",
     "text": [
      "\r",
      "  7%|▋         | 17/250 [07:28<1:42:25, 26.38s/it]"
     ]
    },
    {
     "name": "stdout",
     "output_type": "stream",
     "text": [
      "Training Loss : 0.44889122482299804, Testing Loss : 0.5340766809463501, Training Accuracy : 0.8454, Testing Accuracy : 0.822\n"
     ]
    },
    {
     "name": "stderr",
     "output_type": "stream",
     "text": [
      "\r",
      "  7%|▋         | 18/250 [07:55<1:41:58, 26.37s/it]"
     ]
    },
    {
     "name": "stdout",
     "output_type": "stream",
     "text": [
      "Training Loss : 0.4206232004547119, Testing Loss : 0.5178154188156128, Training Accuracy : 0.85384, Testing Accuracy : 0.8265\n"
     ]
    },
    {
     "name": "stderr",
     "output_type": "stream",
     "text": [
      "\r",
      "  8%|▊         | 19/250 [08:21<1:41:39, 26.40s/it]"
     ]
    },
    {
     "name": "stdout",
     "output_type": "stream",
     "text": [
      "Training Loss : 0.41326026889801026, Testing Loss : 0.5389543008804322, Training Accuracy : 0.85612, Testing Accuracy : 0.8239\n"
     ]
    },
    {
     "name": "stderr",
     "output_type": "stream",
     "text": [
      "\r",
      "  8%|▊         | 20/250 [08:48<1:41:03, 26.36s/it]"
     ]
    },
    {
     "name": "stdout",
     "output_type": "stream",
     "text": [
      "Training Loss : 0.3887335678100586, Testing Loss : 0.4939839255332947, Training Accuracy : 0.86792, Testing Accuracy : 0.8369\n"
     ]
    },
    {
     "name": "stderr",
     "output_type": "stream",
     "text": [
      "\r",
      "  8%|▊         | 21/250 [09:14<1:40:13, 26.26s/it]"
     ]
    },
    {
     "name": "stdout",
     "output_type": "stream",
     "text": [
      "Training Loss : 0.38479137409210207, Testing Loss : 0.5136829566955566, Training Accuracy : 0.86842, Testing Accuracy : 0.8327\n"
     ]
    },
    {
     "name": "stderr",
     "output_type": "stream",
     "text": [
      "\r",
      "  9%|▉         | 22/250 [09:40<1:39:53, 26.29s/it]"
     ]
    },
    {
     "name": "stdout",
     "output_type": "stream",
     "text": [
      "Training Loss : 0.3731544202041626, Testing Loss : 0.5222257334232331, Training Accuracy : 0.87004, Testing Accuracy : 0.8392\n"
     ]
    },
    {
     "name": "stderr",
     "output_type": "stream",
     "text": [
      "\r",
      "  9%|▉         | 23/250 [10:06<1:39:15, 26.24s/it]"
     ]
    },
    {
     "name": "stdout",
     "output_type": "stream",
     "text": [
      "Training Loss : 0.348143218460083, Testing Loss : 0.47700057249069217, Training Accuracy : 0.8785, Testing Accuracy : 0.84\n"
     ]
    },
    {
     "name": "stderr",
     "output_type": "stream",
     "text": [
      "\r",
      " 10%|▉         | 24/250 [10:32<1:39:02, 26.29s/it]"
     ]
    },
    {
     "name": "stdout",
     "output_type": "stream",
     "text": [
      "Training Loss : 0.34026196880340576, Testing Loss : 0.52162323346138, Training Accuracy : 0.88134, Testing Accuracy : 0.8366\n"
     ]
    },
    {
     "name": "stderr",
     "output_type": "stream",
     "text": [
      "\r",
      " 10%|█         | 25/250 [10:59<1:38:50, 26.36s/it]"
     ]
    },
    {
     "name": "stdout",
     "output_type": "stream",
     "text": [
      "Training Loss : 0.334897469367981, Testing Loss : 0.4712444313764572, Training Accuracy : 0.88424, Testing Accuracy : 0.8526\n"
     ]
    },
    {
     "name": "stderr",
     "output_type": "stream",
     "text": [
      "\r",
      " 10%|█         | 26/250 [11:26<1:39:35, 26.68s/it]"
     ]
    },
    {
     "name": "stdout",
     "output_type": "stream",
     "text": [
      "Training Loss : 0.3113419673156738, Testing Loss : 0.48388034071922303, Training Accuracy : 0.893, Testing Accuracy : 0.8491\n"
     ]
    },
    {
     "name": "stderr",
     "output_type": "stream",
     "text": [
      "\r",
      " 11%|█         | 27/250 [11:53<1:38:46, 26.58s/it]"
     ]
    },
    {
     "name": "stdout",
     "output_type": "stream",
     "text": [
      "Training Loss : 0.30265151416778563, Testing Loss : 0.4511756063938141, Training Accuracy : 0.89478, Testing Accuracy : 0.8543\n"
     ]
    },
    {
     "name": "stderr",
     "output_type": "stream",
     "text": [
      "\r",
      " 11%|█         | 28/250 [12:19<1:38:19, 26.58s/it]"
     ]
    },
    {
     "name": "stdout",
     "output_type": "stream",
     "text": [
      "Training Loss : 0.29263883750915526, Testing Loss : 0.4408838900566101, Training Accuracy : 0.89862, Testing Accuracy : 0.8608\n"
     ]
    },
    {
     "name": "stderr",
     "output_type": "stream",
     "text": [
      "\r",
      " 12%|█▏        | 29/250 [12:46<1:37:44, 26.54s/it]"
     ]
    },
    {
     "name": "stdout",
     "output_type": "stream",
     "text": [
      "Training Loss : 0.2751239612960815, Testing Loss : 0.44088646718263624, Training Accuracy : 0.90504, Testing Accuracy : 0.8558\n"
     ]
    },
    {
     "name": "stderr",
     "output_type": "stream",
     "text": [
      "\r",
      " 12%|█▏        | 30/250 [13:12<1:36:59, 26.45s/it]"
     ]
    },
    {
     "name": "stdout",
     "output_type": "stream",
     "text": [
      "Training Loss : 0.2666829092025757, Testing Loss : 0.43659285025596617, Training Accuracy : 0.90766, Testing Accuracy : 0.8637\n"
     ]
    },
    {
     "name": "stderr",
     "output_type": "stream",
     "text": [
      "\r",
      " 12%|█▏        | 31/250 [13:39<1:36:52, 26.54s/it]"
     ]
    },
    {
     "name": "stdout",
     "output_type": "stream",
     "text": [
      "Training Loss : 0.2565793005561829, Testing Loss : 0.4357432878732681, Training Accuracy : 0.91102, Testing Accuracy : 0.8647\n"
     ]
    },
    {
     "name": "stderr",
     "output_type": "stream",
     "text": [
      "\r",
      " 13%|█▎        | 32/250 [14:05<1:36:05, 26.45s/it]"
     ]
    },
    {
     "name": "stdout",
     "output_type": "stream",
     "text": [
      "Training Loss : 0.24966817457199098, Testing Loss : 0.4289446248054504, Training Accuracy : 0.91282, Testing Accuracy : 0.868\n"
     ]
    },
    {
     "name": "stderr",
     "output_type": "stream",
     "text": [
      "\r",
      " 13%|█▎        | 33/250 [14:31<1:35:38, 26.45s/it]"
     ]
    },
    {
     "name": "stdout",
     "output_type": "stream",
     "text": [
      "Training Loss : 0.23944040491104127, Testing Loss : 0.442109489440918, Training Accuracy : 0.91702, Testing Accuracy : 0.8685\n"
     ]
    },
    {
     "name": "stderr",
     "output_type": "stream",
     "text": [
      "\r",
      " 14%|█▎        | 34/250 [14:58<1:35:06, 26.42s/it]"
     ]
    },
    {
     "name": "stdout",
     "output_type": "stream",
     "text": [
      "Training Loss : 0.24076389335632326, Testing Loss : 0.45745682678222654, Training Accuracy : 0.91502, Testing Accuracy : 0.8623\n"
     ]
    },
    {
     "name": "stderr",
     "output_type": "stream",
     "text": [
      "\r",
      " 14%|█▍        | 35/250 [15:25<1:35:01, 26.52s/it]"
     ]
    },
    {
     "name": "stdout",
     "output_type": "stream",
     "text": [
      "Training Loss : 0.22685432744979858, Testing Loss : 0.42198284845352174, Training Accuracy : 0.9192, Testing Accuracy : 0.871\n"
     ]
    },
    {
     "name": "stderr",
     "output_type": "stream",
     "text": [
      "\r",
      " 14%|█▍        | 36/250 [15:51<1:34:31, 26.50s/it]"
     ]
    },
    {
     "name": "stdout",
     "output_type": "stream",
     "text": [
      "Training Loss : 0.2165857246208191, Testing Loss : 0.4431907742500305, Training Accuracy : 0.92386, Testing Accuracy : 0.8689\n"
     ]
    },
    {
     "name": "stderr",
     "output_type": "stream",
     "text": [
      "\r",
      " 15%|█▍        | 37/250 [16:18<1:34:24, 26.60s/it]"
     ]
    },
    {
     "name": "stdout",
     "output_type": "stream",
     "text": [
      "Training Loss : 0.21392579798698425, Testing Loss : 0.4226348881244659, Training Accuracy : 0.92644, Testing Accuracy : 0.8748\n"
     ]
    },
    {
     "name": "stderr",
     "output_type": "stream",
     "text": [
      "\r",
      " 15%|█▌        | 38/250 [16:45<1:34:19, 26.70s/it]"
     ]
    },
    {
     "name": "stdout",
     "output_type": "stream",
     "text": [
      "Training Loss : 0.2026744201850891, Testing Loss : 0.42560243883132937, Training Accuracy : 0.92916, Testing Accuracy : 0.8733\n"
     ]
    },
    {
     "name": "stderr",
     "output_type": "stream",
     "text": [
      "\r",
      " 16%|█▌        | 39/250 [17:11<1:33:17, 26.53s/it]"
     ]
    },
    {
     "name": "stdout",
     "output_type": "stream",
     "text": [
      "Training Loss : 0.1877232738685608, Testing Loss : 0.4478964609146118, Training Accuracy : 0.93348, Testing Accuracy : 0.8734\n"
     ]
    },
    {
     "name": "stderr",
     "output_type": "stream",
     "text": [
      "\r",
      " 16%|█▌        | 40/250 [17:37<1:32:35, 26.46s/it]"
     ]
    },
    {
     "name": "stdout",
     "output_type": "stream",
     "text": [
      "Training Loss : 0.19698917690277098, Testing Loss : 0.3900730357646942, Training Accuracy : 0.9307, Testing Accuracy : 0.8803\n"
     ]
    },
    {
     "name": "stderr",
     "output_type": "stream",
     "text": [
      "\r",
      " 16%|█▋        | 41/250 [18:03<1:31:40, 26.32s/it]"
     ]
    },
    {
     "name": "stdout",
     "output_type": "stream",
     "text": [
      "Training Loss : 0.183149065284729, Testing Loss : 0.4403972345352173, Training Accuracy : 0.93652, Testing Accuracy : 0.8775\n"
     ]
    },
    {
     "name": "stderr",
     "output_type": "stream",
     "text": [
      "\r",
      " 17%|█▋        | 42/250 [18:29<1:31:09, 26.29s/it]"
     ]
    },
    {
     "name": "stdout",
     "output_type": "stream",
     "text": [
      "Training Loss : 0.17381861760139466, Testing Loss : 0.39415535383224487, Training Accuracy : 0.93854, Testing Accuracy : 0.8844\n"
     ]
    },
    {
     "name": "stderr",
     "output_type": "stream",
     "text": [
      "\r",
      " 17%|█▋        | 43/250 [18:55<1:30:18, 26.17s/it]"
     ]
    },
    {
     "name": "stdout",
     "output_type": "stream",
     "text": [
      "Training Loss : 0.1703815559387207, Testing Loss : 0.44477710809707643, Training Accuracy : 0.94052, Testing Accuracy : 0.8825\n"
     ]
    },
    {
     "name": "stderr",
     "output_type": "stream",
     "text": [
      "\r",
      " 18%|█▊        | 44/250 [19:22<1:30:07, 26.25s/it]"
     ]
    },
    {
     "name": "stdout",
     "output_type": "stream",
     "text": [
      "Training Loss : 0.1789003909301758, Testing Loss : 0.4403520536422729, Training Accuracy : 0.93648, Testing Accuracy : 0.8707\n"
     ]
    },
    {
     "name": "stderr",
     "output_type": "stream",
     "text": [
      "\r",
      " 18%|█▊        | 45/250 [19:48<1:29:28, 26.19s/it]"
     ]
    },
    {
     "name": "stdout",
     "output_type": "stream",
     "text": [
      "Training Loss : 0.17315269773483277, Testing Loss : 0.4515843379020691, Training Accuracy : 0.94072, Testing Accuracy : 0.8758\n"
     ]
    },
    {
     "name": "stderr",
     "output_type": "stream",
     "text": [
      "\r",
      " 18%|█▊        | 46/250 [20:14<1:28:58, 26.17s/it]"
     ]
    },
    {
     "name": "stdout",
     "output_type": "stream",
     "text": [
      "Training Loss : 0.16835560401916505, Testing Loss : 0.46125401191711424, Training Accuracy : 0.94076, Testing Accuracy : 0.8746\n"
     ]
    },
    {
     "name": "stderr",
     "output_type": "stream",
     "text": [
      "\r",
      " 19%|█▉        | 47/250 [20:40<1:28:38, 26.20s/it]"
     ]
    },
    {
     "name": "stdout",
     "output_type": "stream",
     "text": [
      "Training Loss : 0.1616192529773712, Testing Loss : 0.4068812072753906, Training Accuracy : 0.94286, Testing Accuracy : 0.8889\n"
     ]
    },
    {
     "name": "stderr",
     "output_type": "stream",
     "text": [
      "\r",
      " 19%|█▉        | 48/250 [21:06<1:28:08, 26.18s/it]"
     ]
    },
    {
     "name": "stdout",
     "output_type": "stream",
     "text": [
      "Training Loss : 0.15365872357368468, Testing Loss : 0.4166880269050598, Training Accuracy : 0.9468, Testing Accuracy : 0.8845\n"
     ]
    },
    {
     "name": "stderr",
     "output_type": "stream",
     "text": [
      "\r",
      " 20%|█▉        | 49/250 [21:33<1:27:47, 26.21s/it]"
     ]
    },
    {
     "name": "stdout",
     "output_type": "stream",
     "text": [
      "Training Loss : 0.15489691878318787, Testing Loss : 0.4431747389316559, Training Accuracy : 0.9443, Testing Accuracy : 0.8778\n"
     ]
    },
    {
     "name": "stderr",
     "output_type": "stream",
     "text": [
      "\r",
      " 20%|██        | 50/250 [21:59<1:27:36, 26.28s/it]"
     ]
    },
    {
     "name": "stdout",
     "output_type": "stream",
     "text": [
      "Training Loss : 0.15679681832313538, Testing Loss : 0.39936832456588744, Training Accuracy : 0.94442, Testing Accuracy : 0.8875\n"
     ]
    },
    {
     "name": "stderr",
     "output_type": "stream",
     "text": [
      "\r",
      " 20%|██        | 51/250 [22:26<1:28:10, 26.59s/it]"
     ]
    },
    {
     "name": "stdout",
     "output_type": "stream",
     "text": [
      "Training Loss : 0.14127906467437745, Testing Loss : 0.41882042064666747, Training Accuracy : 0.9499, Testing Accuracy : 0.8877\n"
     ]
    },
    {
     "name": "stderr",
     "output_type": "stream",
     "text": [
      "\r",
      " 21%|██        | 52/250 [22:53<1:27:35, 26.54s/it]"
     ]
    },
    {
     "name": "stdout",
     "output_type": "stream",
     "text": [
      "Training Loss : 0.1340232985162735, Testing Loss : 0.4332393571376801, Training Accuracy : 0.95192, Testing Accuracy : 0.8862\n"
     ]
    },
    {
     "name": "stderr",
     "output_type": "stream",
     "text": [
      "\r",
      " 21%|██        | 53/250 [23:19<1:26:50, 26.45s/it]"
     ]
    },
    {
     "name": "stdout",
     "output_type": "stream",
     "text": [
      "Training Loss : 0.1356624837589264, Testing Loss : 0.41012445244789125, Training Accuracy : 0.95138, Testing Accuracy : 0.8899\n"
     ]
    },
    {
     "name": "stderr",
     "output_type": "stream",
     "text": [
      "\r",
      " 22%|██▏       | 54/250 [23:45<1:25:56, 26.31s/it]"
     ]
    },
    {
     "name": "stdout",
     "output_type": "stream",
     "text": [
      "Training Loss : 0.12428897643089294, Testing Loss : 0.4340195114910603, Training Accuracy : 0.95546, Testing Accuracy : 0.8881\n"
     ]
    },
    {
     "name": "stderr",
     "output_type": "stream",
     "text": [
      "\r",
      " 22%|██▏       | 55/250 [24:11<1:25:08, 26.20s/it]"
     ]
    },
    {
     "name": "stdout",
     "output_type": "stream",
     "text": [
      "Training Loss : 0.12601755183696747, Testing Loss : 0.42691469049453734, Training Accuracy : 0.9542, Testing Accuracy : 0.8865\n"
     ]
    },
    {
     "name": "stderr",
     "output_type": "stream",
     "text": [
      "\r",
      " 22%|██▏       | 56/250 [24:37<1:24:44, 26.21s/it]"
     ]
    },
    {
     "name": "stdout",
     "output_type": "stream",
     "text": [
      "Training Loss : 0.12237428302764893, Testing Loss : 0.4066264795064926, Training Accuracy : 0.95668, Testing Accuracy : 0.8955\n"
     ]
    },
    {
     "name": "stderr",
     "output_type": "stream",
     "text": [
      "\r",
      " 23%|██▎       | 57/250 [25:03<1:24:09, 26.16s/it]"
     ]
    },
    {
     "name": "stdout",
     "output_type": "stream",
     "text": [
      "Training Loss : 0.11213422257423401, Testing Loss : 0.43573206043243407, Training Accuracy : 0.96088, Testing Accuracy : 0.8861\n"
     ]
    },
    {
     "name": "stderr",
     "output_type": "stream",
     "text": [
      "\r",
      " 23%|██▎       | 58/250 [25:29<1:23:41, 26.16s/it]"
     ]
    },
    {
     "name": "stdout",
     "output_type": "stream",
     "text": [
      "Training Loss : 0.11525843062400817, Testing Loss : 0.43622570276260375, Training Accuracy : 0.95868, Testing Accuracy : 0.885\n"
     ]
    },
    {
     "name": "stderr",
     "output_type": "stream",
     "text": [
      "\r",
      " 24%|██▎       | 59/250 [25:55<1:23:08, 26.12s/it]"
     ]
    },
    {
     "name": "stdout",
     "output_type": "stream",
     "text": [
      "Training Loss : 0.1187697146654129, Testing Loss : 0.4198424454689026, Training Accuracy : 0.95868, Testing Accuracy : 0.8907\n"
     ]
    },
    {
     "name": "stderr",
     "output_type": "stream",
     "text": [
      "\r",
      " 24%|██▍       | 60/250 [26:22<1:22:44, 26.13s/it]"
     ]
    },
    {
     "name": "stdout",
     "output_type": "stream",
     "text": [
      "Training Loss : 0.11209432513237, Testing Loss : 0.4388472187042236, Training Accuracy : 0.96104, Testing Accuracy : 0.8892\n"
     ]
    },
    {
     "name": "stderr",
     "output_type": "stream",
     "text": [
      "\r",
      " 24%|██▍       | 61/250 [26:47<1:22:00, 26.03s/it]"
     ]
    },
    {
     "name": "stdout",
     "output_type": "stream",
     "text": [
      "Training Loss : 0.10836361922740936, Testing Loss : 0.4098141939163208, Training Accuracy : 0.96192, Testing Accuracy : 0.8942\n"
     ]
    },
    {
     "name": "stderr",
     "output_type": "stream",
     "text": [
      "\r",
      " 25%|██▍       | 62/250 [27:13<1:21:37, 26.05s/it]"
     ]
    },
    {
     "name": "stdout",
     "output_type": "stream",
     "text": [
      "Training Loss : 0.10475564663410186, Testing Loss : 0.43009226665496825, Training Accuracy : 0.96224, Testing Accuracy : 0.8918\n"
     ]
    },
    {
     "name": "stderr",
     "output_type": "stream",
     "text": [
      "\r",
      " 25%|██▌       | 63/250 [27:40<1:21:15, 26.07s/it]"
     ]
    },
    {
     "name": "stdout",
     "output_type": "stream",
     "text": [
      "Training Loss : 0.10216123262405395, Testing Loss : 0.4346220595359802, Training Accuracy : 0.96352, Testing Accuracy : 0.8895\n"
     ]
    },
    {
     "name": "stderr",
     "output_type": "stream",
     "text": [
      "\r",
      " 26%|██▌       | 64/250 [28:06<1:20:51, 26.08s/it]"
     ]
    },
    {
     "name": "stdout",
     "output_type": "stream",
     "text": [
      "Training Loss : 0.09954947328567505, Testing Loss : 0.4166541929244995, Training Accuracy : 0.9648, Testing Accuracy : 0.8927\n"
     ]
    },
    {
     "name": "stderr",
     "output_type": "stream",
     "text": [
      "\r",
      " 26%|██▌       | 65/250 [28:32<1:21:02, 26.28s/it]"
     ]
    },
    {
     "name": "stdout",
     "output_type": "stream",
     "text": [
      "Training Loss : 0.09461515788078308, Testing Loss : 0.4507294005393982, Training Accuracy : 0.96678, Testing Accuracy : 0.8892\n"
     ]
    },
    {
     "name": "stderr",
     "output_type": "stream",
     "text": [
      "\r",
      " 26%|██▋       | 66/250 [28:59<1:21:01, 26.42s/it]"
     ]
    },
    {
     "name": "stdout",
     "output_type": "stream",
     "text": [
      "Training Loss : 0.09336331071853637, Testing Loss : 0.4208820159435272, Training Accuracy : 0.9673, Testing Accuracy : 0.8949\n"
     ]
    },
    {
     "name": "stderr",
     "output_type": "stream",
     "text": [
      "\r",
      " 27%|██▋       | 67/250 [29:25<1:20:22, 26.35s/it]"
     ]
    },
    {
     "name": "stdout",
     "output_type": "stream",
     "text": [
      "Training Loss : 0.0903275187587738, Testing Loss : 0.45395920963287356, Training Accuracy : 0.96814, Testing Accuracy : 0.8941\n"
     ]
    },
    {
     "name": "stderr",
     "output_type": "stream",
     "text": [
      "\r",
      " 27%|██▋       | 68/250 [29:52<1:19:52, 26.33s/it]"
     ]
    },
    {
     "name": "stdout",
     "output_type": "stream",
     "text": [
      "Training Loss : 0.09134669153690338, Testing Loss : 0.45442554006576535, Training Accuracy : 0.96722, Testing Accuracy : 0.8951\n"
     ]
    },
    {
     "name": "stderr",
     "output_type": "stream",
     "text": [
      "\r",
      " 28%|██▊       | 69/250 [30:18<1:19:25, 26.33s/it]"
     ]
    },
    {
     "name": "stdout",
     "output_type": "stream",
     "text": [
      "Training Loss : 0.08901996398210525, Testing Loss : 0.4355063241481781, Training Accuracy : 0.96858, Testing Accuracy : 0.8961\n"
     ]
    },
    {
     "name": "stderr",
     "output_type": "stream",
     "text": [
      "\r",
      " 28%|██▊       | 70/250 [30:44<1:18:56, 26.31s/it]"
     ]
    },
    {
     "name": "stdout",
     "output_type": "stream",
     "text": [
      "Training Loss : 0.08106385755181313, Testing Loss : 0.4764093315124512, Training Accuracy : 0.971, Testing Accuracy : 0.8979\n"
     ]
    },
    {
     "name": "stderr",
     "output_type": "stream",
     "text": [
      "\r",
      " 28%|██▊       | 71/250 [31:10<1:18:16, 26.24s/it]"
     ]
    },
    {
     "name": "stdout",
     "output_type": "stream",
     "text": [
      "Training Loss : 0.08342899691820145, Testing Loss : 0.45294934368133544, Training Accuracy : 0.96952, Testing Accuracy : 0.8982\n"
     ]
    },
    {
     "name": "stderr",
     "output_type": "stream",
     "text": [
      "\r",
      " 29%|██▉       | 72/250 [31:37<1:17:49, 26.23s/it]"
     ]
    },
    {
     "name": "stdout",
     "output_type": "stream",
     "text": [
      "Training Loss : 0.0821457307100296, Testing Loss : 0.44945913887023925, Training Accuracy : 0.97058, Testing Accuracy : 0.8948\n"
     ]
    },
    {
     "name": "stderr",
     "output_type": "stream",
     "text": [
      "\r",
      " 29%|██▉       | 73/250 [32:03<1:17:27, 26.26s/it]"
     ]
    },
    {
     "name": "stdout",
     "output_type": "stream",
     "text": [
      "Training Loss : 0.0781340098786354, Testing Loss : 0.43144817190170287, Training Accuracy : 0.97236, Testing Accuracy : 0.9013\n"
     ]
    },
    {
     "name": "stderr",
     "output_type": "stream",
     "text": [
      "\r",
      " 30%|██▉       | 74/250 [32:29<1:16:54, 26.22s/it]"
     ]
    },
    {
     "name": "stdout",
     "output_type": "stream",
     "text": [
      "Training Loss : 0.07736555827617646, Testing Loss : 0.4683075974464416, Training Accuracy : 0.97278, Testing Accuracy : 0.896\n"
     ]
    },
    {
     "name": "stderr",
     "output_type": "stream",
     "text": [
      "\r",
      " 30%|███       | 75/250 [32:55<1:16:18, 26.16s/it]"
     ]
    },
    {
     "name": "stdout",
     "output_type": "stream",
     "text": [
      "Training Loss : 0.07979188188791275, Testing Loss : 0.43560219473838807, Training Accuracy : 0.97254, Testing Accuracy : 0.8989\n"
     ]
    },
    {
     "name": "stderr",
     "output_type": "stream",
     "text": [
      "\r",
      " 30%|███       | 76/250 [33:21<1:16:00, 26.21s/it]"
     ]
    },
    {
     "name": "stdout",
     "output_type": "stream",
     "text": [
      "Training Loss : 0.07606762714385987, Testing Loss : 0.4595592794895172, Training Accuracy : 0.97256, Testing Accuracy : 0.8973\n"
     ]
    },
    {
     "name": "stderr",
     "output_type": "stream",
     "text": [
      "\r",
      " 31%|███       | 77/250 [33:47<1:15:23, 26.15s/it]"
     ]
    },
    {
     "name": "stdout",
     "output_type": "stream",
     "text": [
      "Training Loss : 0.07183491631031036, Testing Loss : 0.44245177536010744, Training Accuracy : 0.9736, Testing Accuracy : 0.899\n"
     ]
    },
    {
     "name": "stderr",
     "output_type": "stream",
     "text": [
      "\r",
      " 31%|███       | 78/250 [34:14<1:15:17, 26.26s/it]"
     ]
    },
    {
     "name": "stdout",
     "output_type": "stream",
     "text": [
      "Training Loss : 0.07387369405269623, Testing Loss : 0.4588366844177246, Training Accuracy : 0.97396, Testing Accuracy : 0.8966\n"
     ]
    },
    {
     "name": "stderr",
     "output_type": "stream",
     "text": [
      "\r",
      " 32%|███▏      | 79/250 [34:41<1:15:22, 26.44s/it]"
     ]
    },
    {
     "name": "stdout",
     "output_type": "stream",
     "text": [
      "Training Loss : 0.07539629937887192, Testing Loss : 0.44525185856223104, Training Accuracy : 0.97382, Testing Accuracy : 0.8964\n"
     ]
    },
    {
     "name": "stderr",
     "output_type": "stream",
     "text": [
      "\r",
      " 32%|███▏      | 80/250 [35:07<1:14:58, 26.46s/it]"
     ]
    },
    {
     "name": "stdout",
     "output_type": "stream",
     "text": [
      "Training Loss : 0.07371235411405563, Testing Loss : 0.45812556495666507, Training Accuracy : 0.97386, Testing Accuracy : 0.8963\n"
     ]
    },
    {
     "name": "stderr",
     "output_type": "stream",
     "text": [
      "\r",
      " 32%|███▏      | 81/250 [35:33<1:14:20, 26.40s/it]"
     ]
    },
    {
     "name": "stdout",
     "output_type": "stream",
     "text": [
      "Training Loss : 0.0667859283721447, Testing Loss : 0.4523424990653992, Training Accuracy : 0.97622, Testing Accuracy : 0.8954\n"
     ]
    },
    {
     "name": "stderr",
     "output_type": "stream",
     "text": [
      "\r",
      " 33%|███▎      | 82/250 [36:00<1:13:54, 26.39s/it]"
     ]
    },
    {
     "name": "stdout",
     "output_type": "stream",
     "text": [
      "Training Loss : 0.06129276865720749, Testing Loss : 0.4322467749595642, Training Accuracy : 0.97806, Testing Accuracy : 0.9025\n"
     ]
    },
    {
     "name": "stderr",
     "output_type": "stream",
     "text": [
      "\r",
      " 33%|███▎      | 83/250 [36:27<1:13:44, 26.49s/it]"
     ]
    },
    {
     "name": "stdout",
     "output_type": "stream",
     "text": [
      "Training Loss : 0.05349854268789291, Testing Loss : 0.48640268993377683, Training Accuracy : 0.981, Testing Accuracy : 0.895\n"
     ]
    },
    {
     "name": "stderr",
     "output_type": "stream",
     "text": [
      "\r",
      " 34%|███▎      | 84/250 [36:53<1:13:27, 26.55s/it]"
     ]
    },
    {
     "name": "stdout",
     "output_type": "stream",
     "text": [
      "Training Loss : 0.05506274640202522, Testing Loss : 0.46782908096313475, Training Accuracy : 0.98004, Testing Accuracy : 0.898\n"
     ]
    },
    {
     "name": "stderr",
     "output_type": "stream",
     "text": [
      "\r",
      " 34%|███▍      | 85/250 [37:20<1:13:11, 26.62s/it]"
     ]
    },
    {
     "name": "stdout",
     "output_type": "stream",
     "text": [
      "Training Loss : 0.06676549429059028, Testing Loss : 0.46197688455581665, Training Accuracy : 0.9758, Testing Accuracy : 0.9005\n"
     ]
    },
    {
     "name": "stderr",
     "output_type": "stream",
     "text": [
      "\r",
      " 34%|███▍      | 86/250 [37:46<1:12:31, 26.53s/it]"
     ]
    },
    {
     "name": "stdout",
     "output_type": "stream",
     "text": [
      "Training Loss : 0.054840729150772094, Testing Loss : 0.48088514828681944, Training Accuracy : 0.9798, Testing Accuracy : 0.8988\n"
     ]
    },
    {
     "name": "stderr",
     "output_type": "stream",
     "text": [
      "\r",
      " 35%|███▍      | 87/250 [38:13<1:12:06, 26.54s/it]"
     ]
    },
    {
     "name": "stdout",
     "output_type": "stream",
     "text": [
      "Training Loss : 0.05803458257436752, Testing Loss : 0.49646861686706545, Training Accuracy : 0.97968, Testing Accuracy : 0.8953\n"
     ]
    },
    {
     "name": "stderr",
     "output_type": "stream",
     "text": [
      "\r",
      " 35%|███▌      | 88/250 [38:40<1:11:53, 26.62s/it]"
     ]
    },
    {
     "name": "stdout",
     "output_type": "stream",
     "text": [
      "Training Loss : 0.05951947357296944, Testing Loss : 0.45601685218811033, Training Accuracy : 0.9789, Testing Accuracy : 0.8999\n"
     ]
    },
    {
     "name": "stderr",
     "output_type": "stream",
     "text": [
      "\r",
      " 36%|███▌      | 89/250 [39:07<1:11:46, 26.75s/it]"
     ]
    },
    {
     "name": "stdout",
     "output_type": "stream",
     "text": [
      "Training Loss : 0.05262975241422653, Testing Loss : 0.4573821949005127, Training Accuracy : 0.98128, Testing Accuracy : 0.9027\n"
     ]
    },
    {
     "name": "stderr",
     "output_type": "stream",
     "text": [
      "\r",
      " 36%|███▌      | 90/250 [39:34<1:11:45, 26.91s/it]"
     ]
    },
    {
     "name": "stdout",
     "output_type": "stream",
     "text": [
      "Training Loss : 0.053367903417348865, Testing Loss : 0.469827480173111, Training Accuracy : 0.98078, Testing Accuracy : 0.8984\n"
     ]
    },
    {
     "name": "stderr",
     "output_type": "stream",
     "text": [
      "\r",
      " 36%|███▋      | 91/250 [40:01<1:11:10, 26.86s/it]"
     ]
    },
    {
     "name": "stdout",
     "output_type": "stream",
     "text": [
      "Training Loss : 0.054755804349184034, Testing Loss : 0.4850583881318569, Training Accuracy : 0.9808, Testing Accuracy : 0.8997\n"
     ]
    },
    {
     "name": "stderr",
     "output_type": "stream",
     "text": [
      "\r",
      " 37%|███▋      | 92/250 [40:28<1:10:50, 26.90s/it]"
     ]
    },
    {
     "name": "stdout",
     "output_type": "stream",
     "text": [
      "Training Loss : 0.0539698591285944, Testing Loss : 0.47192015023231504, Training Accuracy : 0.98086, Testing Accuracy : 0.8996\n"
     ]
    },
    {
     "name": "stderr",
     "output_type": "stream",
     "text": [
      "\r",
      " 37%|███▋      | 93/250 [40:55<1:10:14, 26.84s/it]"
     ]
    },
    {
     "name": "stdout",
     "output_type": "stream",
     "text": [
      "Training Loss : 0.05070779743552208, Testing Loss : 0.4711536581993103, Training Accuracy : 0.98278, Testing Accuracy : 0.9031\n"
     ]
    },
    {
     "name": "stderr",
     "output_type": "stream",
     "text": [
      "\r",
      " 38%|███▊      | 94/250 [41:21<1:09:49, 26.86s/it]"
     ]
    },
    {
     "name": "stdout",
     "output_type": "stream",
     "text": [
      "Training Loss : 0.04607897702097893, Testing Loss : 0.4661076406478882, Training Accuracy : 0.98308, Testing Accuracy : 0.9004\n"
     ]
    },
    {
     "name": "stderr",
     "output_type": "stream",
     "text": [
      "\r",
      " 38%|███▊      | 95/250 [41:48<1:09:15, 26.81s/it]"
     ]
    },
    {
     "name": "stdout",
     "output_type": "stream",
     "text": [
      "Training Loss : 0.04519664008617401, Testing Loss : 0.49710816640853883, Training Accuracy : 0.98436, Testing Accuracy : 0.9002\n"
     ]
    },
    {
     "name": "stderr",
     "output_type": "stream",
     "text": [
      "\r",
      " 38%|███▊      | 96/250 [42:15<1:08:48, 26.81s/it]"
     ]
    },
    {
     "name": "stdout",
     "output_type": "stream",
     "text": [
      "Training Loss : 0.048242170112133026, Testing Loss : 0.48589528741836546, Training Accuracy : 0.98326, Testing Accuracy : 0.8987\n"
     ]
    },
    {
     "name": "stderr",
     "output_type": "stream",
     "text": [
      "\r",
      " 39%|███▉      | 97/250 [42:42<1:08:16, 26.77s/it]"
     ]
    },
    {
     "name": "stdout",
     "output_type": "stream",
     "text": [
      "Training Loss : 0.05216513409733772, Testing Loss : 0.5185856250286103, Training Accuracy : 0.98112, Testing Accuracy : 0.8946\n"
     ]
    },
    {
     "name": "stderr",
     "output_type": "stream",
     "text": [
      "\r",
      " 39%|███▉      | 98/250 [43:09<1:08:05, 26.88s/it]"
     ]
    },
    {
     "name": "stdout",
     "output_type": "stream",
     "text": [
      "Training Loss : 0.0531056238681078, Testing Loss : 0.480313320350647, Training Accuracy : 0.9808, Testing Accuracy : 0.9011\n"
     ]
    },
    {
     "name": "stderr",
     "output_type": "stream",
     "text": [
      "\r",
      " 40%|███▉      | 99/250 [43:36<1:07:58, 27.01s/it]"
     ]
    },
    {
     "name": "stdout",
     "output_type": "stream",
     "text": [
      "Training Loss : 0.04738528431236744, Testing Loss : 0.46776698975563047, Training Accuracy : 0.9835, Testing Accuracy : 0.9027\n"
     ]
    },
    {
     "name": "stderr",
     "output_type": "stream",
     "text": [
      "\r",
      " 40%|████      | 100/250 [44:03<1:07:11, 26.88s/it]"
     ]
    },
    {
     "name": "stdout",
     "output_type": "stream",
     "text": [
      "Training Loss : 0.04244494017422199, Testing Loss : 0.4796612728595734, Training Accuracy : 0.9853, Testing Accuracy : 0.9043\n"
     ]
    },
    {
     "name": "stderr",
     "output_type": "stream",
     "text": [
      "\r",
      " 40%|████      | 101/250 [44:29<1:06:32, 26.79s/it]"
     ]
    },
    {
     "name": "stdout",
     "output_type": "stream",
     "text": [
      "Training Loss : 0.04556053196310997, Testing Loss : 0.48460838193893435, Training Accuracy : 0.98396, Testing Accuracy : 0.9059\n"
     ]
    },
    {
     "name": "stderr",
     "output_type": "stream",
     "text": [
      "\r",
      " 41%|████      | 102/250 [44:56<1:05:55, 26.73s/it]"
     ]
    },
    {
     "name": "stdout",
     "output_type": "stream",
     "text": [
      "Training Loss : 0.0420001047116518, Testing Loss : 0.478641934299469, Training Accuracy : 0.98474, Testing Accuracy : 0.9024\n"
     ]
    },
    {
     "name": "stderr",
     "output_type": "stream",
     "text": [
      "\r",
      " 41%|████      | 103/250 [45:22<1:05:21, 26.68s/it]"
     ]
    },
    {
     "name": "stdout",
     "output_type": "stream",
     "text": [
      "Training Loss : 0.04228158715307712, Testing Loss : 0.4612583350658417, Training Accuracy : 0.98514, Testing Accuracy : 0.9074\n"
     ]
    },
    {
     "name": "stderr",
     "output_type": "stream",
     "text": [
      "\r",
      " 42%|████▏     | 104/250 [45:49<1:04:47, 26.63s/it]"
     ]
    },
    {
     "name": "stdout",
     "output_type": "stream",
     "text": [
      "Training Loss : 0.03838276831269264, Testing Loss : 0.476859317779541, Training Accuracy : 0.98674, Testing Accuracy : 0.9072\n"
     ]
    },
    {
     "name": "stderr",
     "output_type": "stream",
     "text": [
      "\r",
      " 42%|████▏     | 105/250 [46:16<1:04:21, 26.63s/it]"
     ]
    },
    {
     "name": "stdout",
     "output_type": "stream",
     "text": [
      "Training Loss : 0.03279564807534218, Testing Loss : 0.4942066423892975, Training Accuracy : 0.98856, Testing Accuracy : 0.9039\n"
     ]
    },
    {
     "name": "stderr",
     "output_type": "stream",
     "text": [
      "\r",
      " 42%|████▏     | 106/250 [46:42<1:03:58, 26.66s/it]"
     ]
    },
    {
     "name": "stdout",
     "output_type": "stream",
     "text": [
      "Training Loss : 0.039160889325737955, Testing Loss : 0.5002076343536377, Training Accuracy : 0.98596, Testing Accuracy : 0.9009\n"
     ]
    },
    {
     "name": "stderr",
     "output_type": "stream",
     "text": [
      "\r",
      " 43%|████▎     | 107/250 [47:09<1:03:33, 26.67s/it]"
     ]
    },
    {
     "name": "stdout",
     "output_type": "stream",
     "text": [
      "Training Loss : 0.04137405224621296, Testing Loss : 0.5008858125686646, Training Accuracy : 0.98528, Testing Accuracy : 0.9029\n"
     ]
    },
    {
     "name": "stderr",
     "output_type": "stream",
     "text": [
      "\r",
      " 43%|████▎     | 108/250 [47:36<1:03:41, 26.91s/it]"
     ]
    },
    {
     "name": "stdout",
     "output_type": "stream",
     "text": [
      "Training Loss : 0.043721552216410636, Testing Loss : 0.5612720534324646, Training Accuracy : 0.9849, Testing Accuracy : 0.898\n"
     ]
    },
    {
     "name": "stderr",
     "output_type": "stream",
     "text": [
      "\r",
      " 44%|████▎     | 109/250 [48:03<1:03:13, 26.90s/it]"
     ]
    },
    {
     "name": "stdout",
     "output_type": "stream",
     "text": [
      "Training Loss : 0.040141892352104185, Testing Loss : 0.5001935371398926, Training Accuracy : 0.98564, Testing Accuracy : 0.9026\n"
     ]
    },
    {
     "name": "stderr",
     "output_type": "stream",
     "text": [
      "\r",
      " 44%|████▍     | 110/250 [48:30<1:02:39, 26.85s/it]"
     ]
    },
    {
     "name": "stdout",
     "output_type": "stream",
     "text": [
      "Training Loss : 0.036003545140624045, Testing Loss : 0.49973123350143434, Training Accuracy : 0.98786, Testing Accuracy : 0.9073\n"
     ]
    },
    {
     "name": "stderr",
     "output_type": "stream",
     "text": [
      "\r",
      " 44%|████▍     | 111/250 [48:56<1:01:56, 26.73s/it]"
     ]
    },
    {
     "name": "stdout",
     "output_type": "stream",
     "text": [
      "Training Loss : 0.03328900190889835, Testing Loss : 0.48736636476516726, Training Accuracy : 0.98776, Testing Accuracy : 0.9049\n"
     ]
    },
    {
     "name": "stderr",
     "output_type": "stream",
     "text": [
      "\r",
      " 45%|████▍     | 112/250 [49:23<1:01:01, 26.54s/it]"
     ]
    },
    {
     "name": "stdout",
     "output_type": "stream",
     "text": [
      "Training Loss : 0.034152344036102296, Testing Loss : 0.49405503520965577, Training Accuracy : 0.98826, Testing Accuracy : 0.9081\n"
     ]
    },
    {
     "name": "stderr",
     "output_type": "stream",
     "text": [
      "\r",
      " 45%|████▌     | 113/250 [49:49<1:00:16, 26.40s/it]"
     ]
    },
    {
     "name": "stdout",
     "output_type": "stream",
     "text": [
      "Training Loss : 0.033810674628764394, Testing Loss : 0.4936459979534149, Training Accuracy : 0.9884, Testing Accuracy : 0.9072\n"
     ]
    },
    {
     "name": "stderr",
     "output_type": "stream",
     "text": [
      "\r",
      " 46%|████▌     | 114/250 [50:15<59:38, 26.31s/it]  "
     ]
    },
    {
     "name": "stdout",
     "output_type": "stream",
     "text": [
      "Training Loss : 0.02952510325819254, Testing Loss : 0.5224498303413391, Training Accuracy : 0.98994, Testing Accuracy : 0.906\n"
     ]
    },
    {
     "name": "stderr",
     "output_type": "stream",
     "text": [
      "\r",
      " 46%|████▌     | 115/250 [50:41<59:13, 26.32s/it]"
     ]
    },
    {
     "name": "stdout",
     "output_type": "stream",
     "text": [
      "Training Loss : 0.03222709216743708, Testing Loss : 0.5184273384094238, Training Accuracy : 0.98906, Testing Accuracy : 0.9052\n"
     ]
    },
    {
     "name": "stderr",
     "output_type": "stream",
     "text": [
      "\r",
      " 46%|████▋     | 116/250 [51:07<58:35, 26.23s/it]"
     ]
    },
    {
     "name": "stdout",
     "output_type": "stream",
     "text": [
      "Training Loss : 0.028919548079371454, Testing Loss : 0.5177868352890015, Training Accuracy : 0.98988, Testing Accuracy : 0.9071\n"
     ]
    },
    {
     "name": "stderr",
     "output_type": "stream",
     "text": [
      "\r",
      " 47%|████▋     | 117/250 [51:33<58:09, 26.24s/it]"
     ]
    },
    {
     "name": "stdout",
     "output_type": "stream",
     "text": [
      "Training Loss : 0.028937816861271858, Testing Loss : 0.5053559022903442, Training Accuracy : 0.9901, Testing Accuracy : 0.9072\n"
     ]
    },
    {
     "name": "stderr",
     "output_type": "stream",
     "text": [
      "\r",
      " 47%|████▋     | 118/250 [51:59<57:36, 26.18s/it]"
     ]
    },
    {
     "name": "stdout",
     "output_type": "stream",
     "text": [
      "Training Loss : 0.027621100336313247, Testing Loss : 0.5085284610271454, Training Accuracy : 0.99008, Testing Accuracy : 0.9082\n"
     ]
    },
    {
     "name": "stderr",
     "output_type": "stream",
     "text": [
      "\r",
      " 48%|████▊     | 119/250 [52:26<57:12, 26.20s/it]"
     ]
    },
    {
     "name": "stdout",
     "output_type": "stream",
     "text": [
      "Training Loss : 0.024629832603633404, Testing Loss : 0.48622230319976806, Training Accuracy : 0.99134, Testing Accuracy : 0.9113\n"
     ]
    },
    {
     "name": "stderr",
     "output_type": "stream",
     "text": [
      "\r",
      " 48%|████▊     | 120/250 [52:52<56:46, 26.21s/it]"
     ]
    },
    {
     "name": "stdout",
     "output_type": "stream",
     "text": [
      "Training Loss : 0.0240641314214468, Testing Loss : 0.5287207015991211, Training Accuracy : 0.99184, Testing Accuracy : 0.9072\n"
     ]
    },
    {
     "name": "stderr",
     "output_type": "stream",
     "text": [
      "\r",
      " 48%|████▊     | 121/250 [53:18<56:03, 26.07s/it]"
     ]
    },
    {
     "name": "stdout",
     "output_type": "stream",
     "text": [
      "Training Loss : 0.031107353307381274, Testing Loss : 0.542811934185028, Training Accuracy : 0.98894, Testing Accuracy : 0.9055\n"
     ]
    },
    {
     "name": "stderr",
     "output_type": "stream",
     "text": [
      "\r",
      " 49%|████▉     | 122/250 [53:44<55:38, 26.08s/it]"
     ]
    },
    {
     "name": "stdout",
     "output_type": "stream",
     "text": [
      "Training Loss : 0.028473380316495895, Testing Loss : 0.5478770437240601, Training Accuracy : 0.98976, Testing Accuracy : 0.9052\n"
     ]
    },
    {
     "name": "stderr",
     "output_type": "stream",
     "text": [
      "\r",
      " 49%|████▉     | 123/250 [54:10<55:30, 26.23s/it]"
     ]
    },
    {
     "name": "stdout",
     "output_type": "stream",
     "text": [
      "Training Loss : 0.0284191097342968, Testing Loss : 0.5504183955192566, Training Accuracy : 0.99022, Testing Accuracy : 0.9046\n"
     ]
    },
    {
     "name": "stderr",
     "output_type": "stream",
     "text": [
      "\r",
      " 50%|████▉     | 124/250 [54:37<55:25, 26.39s/it]"
     ]
    },
    {
     "name": "stdout",
     "output_type": "stream",
     "text": [
      "Training Loss : 0.02620238237604499, Testing Loss : 0.5192782422065735, Training Accuracy : 0.99114, Testing Accuracy : 0.9082\n"
     ]
    },
    {
     "name": "stderr",
     "output_type": "stream",
     "text": [
      "\r",
      " 50%|█████     | 125/250 [55:03<54:42, 26.26s/it]"
     ]
    },
    {
     "name": "stdout",
     "output_type": "stream",
     "text": [
      "Training Loss : 0.023069307584762572, Testing Loss : 0.5697252767562866, Training Accuracy : 0.99194, Testing Accuracy : 0.9056\n"
     ]
    },
    {
     "name": "stderr",
     "output_type": "stream",
     "text": [
      "\r",
      " 50%|█████     | 126/250 [55:29<54:09, 26.21s/it]"
     ]
    },
    {
     "name": "stdout",
     "output_type": "stream",
     "text": [
      "Training Loss : 0.022327040412053467, Testing Loss : 0.5358710131645202, Training Accuracy : 0.99224, Testing Accuracy : 0.9104\n"
     ]
    },
    {
     "name": "stderr",
     "output_type": "stream",
     "text": [
      "\r",
      " 51%|█████     | 127/250 [55:55<53:44, 26.22s/it]"
     ]
    },
    {
     "name": "stdout",
     "output_type": "stream",
     "text": [
      "Training Loss : 0.025740910255759954, Testing Loss : 0.5299918176651001, Training Accuracy : 0.99094, Testing Accuracy : 0.9076\n"
     ]
    },
    {
     "name": "stderr",
     "output_type": "stream",
     "text": [
      "\r",
      " 51%|█████     | 128/250 [56:22<53:22, 26.25s/it]"
     ]
    },
    {
     "name": "stdout",
     "output_type": "stream",
     "text": [
      "Training Loss : 0.022522614598274232, Testing Loss : 0.5247992570877075, Training Accuracy : 0.99212, Testing Accuracy : 0.909\n"
     ]
    },
    {
     "name": "stderr",
     "output_type": "stream",
     "text": [
      "\r",
      " 52%|█████▏    | 129/250 [56:48<52:52, 26.22s/it]"
     ]
    },
    {
     "name": "stdout",
     "output_type": "stream",
     "text": [
      "Training Loss : 0.02227396523579955, Testing Loss : 0.5383635853767395, Training Accuracy : 0.99252, Testing Accuracy : 0.9096\n"
     ]
    },
    {
     "name": "stderr",
     "output_type": "stream",
     "text": [
      "\r",
      " 52%|█████▏    | 130/250 [57:14<52:17, 26.14s/it]"
     ]
    },
    {
     "name": "stdout",
     "output_type": "stream",
     "text": [
      "Training Loss : 0.020396765448898076, Testing Loss : 0.502977447128296, Training Accuracy : 0.9931, Testing Accuracy : 0.9107\n"
     ]
    },
    {
     "name": "stderr",
     "output_type": "stream",
     "text": [
      "\r",
      " 52%|█████▏    | 131/250 [57:40<51:53, 26.16s/it]"
     ]
    },
    {
     "name": "stdout",
     "output_type": "stream",
     "text": [
      "Training Loss : 0.01949594699457288, Testing Loss : 0.5512011637687683, Training Accuracy : 0.99306, Testing Accuracy : 0.9111\n"
     ]
    },
    {
     "name": "stderr",
     "output_type": "stream",
     "text": [
      "\r",
      " 53%|█████▎    | 132/250 [58:06<51:21, 26.12s/it]"
     ]
    },
    {
     "name": "stdout",
     "output_type": "stream",
     "text": [
      "Training Loss : 0.02230013895943761, Testing Loss : 0.5324326008796691, Training Accuracy : 0.99236, Testing Accuracy : 0.9069\n"
     ]
    },
    {
     "name": "stderr",
     "output_type": "stream",
     "text": [
      "\r",
      " 53%|█████▎    | 133/250 [58:33<51:08, 26.23s/it]"
     ]
    },
    {
     "name": "stdout",
     "output_type": "stream",
     "text": [
      "Training Loss : 0.022491418395936488, Testing Loss : 0.5319226761817932, Training Accuracy : 0.9922, Testing Accuracy : 0.9115\n"
     ]
    },
    {
     "name": "stderr",
     "output_type": "stream",
     "text": [
      "\r",
      " 54%|█████▎    | 134/250 [58:59<50:48, 26.28s/it]"
     ]
    },
    {
     "name": "stdout",
     "output_type": "stream",
     "text": [
      "Training Loss : 0.015922152474224568, Testing Loss : 0.5448887005805969, Training Accuracy : 0.99472, Testing Accuracy : 0.9096\n"
     ]
    },
    {
     "name": "stderr",
     "output_type": "stream",
     "text": [
      "\r",
      " 54%|█████▍    | 135/250 [59:25<50:13, 26.20s/it]"
     ]
    },
    {
     "name": "stdout",
     "output_type": "stream",
     "text": [
      "Training Loss : 0.018989417303055523, Testing Loss : 0.5571074493408203, Training Accuracy : 0.9935, Testing Accuracy : 0.9083\n"
     ]
    },
    {
     "name": "stderr",
     "output_type": "stream",
     "text": [
      "\r",
      " 54%|█████▍    | 136/250 [59:51<49:45, 26.19s/it]"
     ]
    },
    {
     "name": "stdout",
     "output_type": "stream",
     "text": [
      "Training Loss : 0.022117593537867068, Testing Loss : 0.5274992383003235, Training Accuracy : 0.99196, Testing Accuracy : 0.9094\n"
     ]
    },
    {
     "name": "stderr",
     "output_type": "stream",
     "text": [
      "\r",
      " 55%|█████▍    | 137/250 [1:00:17<49:07, 26.08s/it]"
     ]
    },
    {
     "name": "stdout",
     "output_type": "stream",
     "text": [
      "Training Loss : 0.02106267996177077, Testing Loss : 0.5344197176933289, Training Accuracy : 0.99246, Testing Accuracy : 0.9108\n"
     ]
    },
    {
     "name": "stderr",
     "output_type": "stream",
     "text": [
      "\r",
      " 55%|█████▌    | 138/250 [1:00:43<48:47, 26.14s/it]"
     ]
    },
    {
     "name": "stdout",
     "output_type": "stream",
     "text": [
      "Training Loss : 0.018996332268565893, Testing Loss : 0.5274911573886871, Training Accuracy : 0.99338, Testing Accuracy : 0.9117\n"
     ]
    },
    {
     "name": "stderr",
     "output_type": "stream",
     "text": [
      "\r",
      " 56%|█████▌    | 139/250 [1:01:10<48:42, 26.33s/it]"
     ]
    },
    {
     "name": "stdout",
     "output_type": "stream",
     "text": [
      "Training Loss : 0.016472736844047903, Testing Loss : 0.528929812335968, Training Accuracy : 0.99408, Testing Accuracy : 0.9146\n"
     ]
    },
    {
     "name": "stderr",
     "output_type": "stream",
     "text": [
      "\r",
      " 56%|█████▌    | 140/250 [1:01:36<48:19, 26.36s/it]"
     ]
    },
    {
     "name": "stdout",
     "output_type": "stream",
     "text": [
      "Training Loss : 0.01860142943136394, Testing Loss : 0.5605449518203736, Training Accuracy : 0.99376, Testing Accuracy : 0.9098\n"
     ]
    },
    {
     "name": "stderr",
     "output_type": "stream",
     "text": [
      "\r",
      " 56%|█████▋    | 141/250 [1:02:03<47:48, 26.32s/it]"
     ]
    },
    {
     "name": "stdout",
     "output_type": "stream",
     "text": [
      "Training Loss : 0.020399651850908994, Testing Loss : 0.5611863046646118, Training Accuracy : 0.9932, Testing Accuracy : 0.9082\n"
     ]
    },
    {
     "name": "stderr",
     "output_type": "stream",
     "text": [
      "\r",
      " 57%|█████▋    | 142/250 [1:02:29<47:31, 26.40s/it]"
     ]
    },
    {
     "name": "stdout",
     "output_type": "stream",
     "text": [
      "Training Loss : 0.01957815735273063, Testing Loss : 0.5799672401428223, Training Accuracy : 0.99336, Testing Accuracy : 0.9053\n"
     ]
    },
    {
     "name": "stderr",
     "output_type": "stream",
     "text": [
      "\r",
      " 57%|█████▋    | 143/250 [1:02:56<47:15, 26.50s/it]"
     ]
    },
    {
     "name": "stdout",
     "output_type": "stream",
     "text": [
      "Training Loss : 0.019491374536678194, Testing Loss : 0.5369712355613708, Training Accuracy : 0.99316, Testing Accuracy : 0.9089\n"
     ]
    },
    {
     "name": "stderr",
     "output_type": "stream",
     "text": [
      "\r",
      " 58%|█████▊    | 144/250 [1:03:23<47:03, 26.64s/it]"
     ]
    },
    {
     "name": "stdout",
     "output_type": "stream",
     "text": [
      "Training Loss : 0.02235755443751812, Testing Loss : 0.5578158693313598, Training Accuracy : 0.99184, Testing Accuracy : 0.9087\n"
     ]
    },
    {
     "name": "stderr",
     "output_type": "stream",
     "text": [
      "\r",
      " 58%|█████▊    | 145/250 [1:03:50<46:44, 26.70s/it]"
     ]
    },
    {
     "name": "stdout",
     "output_type": "stream",
     "text": [
      "Training Loss : 0.021884471568241717, Testing Loss : 0.5514240509986877, Training Accuracy : 0.9922, Testing Accuracy : 0.9101\n"
     ]
    },
    {
     "name": "stderr",
     "output_type": "stream",
     "text": [
      "\r",
      " 58%|█████▊    | 146/250 [1:04:17<46:19, 26.73s/it]"
     ]
    },
    {
     "name": "stdout",
     "output_type": "stream",
     "text": [
      "Training Loss : 0.018041621209681034, Testing Loss : 0.5350190628051757, Training Accuracy : 0.9937, Testing Accuracy : 0.9129\n"
     ]
    },
    {
     "name": "stderr",
     "output_type": "stream",
     "text": [
      "\r",
      " 59%|█████▉    | 147/250 [1:04:43<45:47, 26.68s/it]"
     ]
    },
    {
     "name": "stdout",
     "output_type": "stream",
     "text": [
      "Training Loss : 0.015856695425249635, Testing Loss : 0.5334464700698852, Training Accuracy : 0.9947, Testing Accuracy : 0.9131\n"
     ]
    },
    {
     "name": "stderr",
     "output_type": "stream",
     "text": [
      "\r",
      " 59%|█████▉    | 148/250 [1:05:11<45:44, 26.91s/it]"
     ]
    },
    {
     "name": "stdout",
     "output_type": "stream",
     "text": [
      "Training Loss : 0.017245452727526426, Testing Loss : 0.5154099189758301, Training Accuracy : 0.99394, Testing Accuracy : 0.9151\n"
     ]
    },
    {
     "name": "stderr",
     "output_type": "stream",
     "text": [
      "\r",
      " 60%|█████▉    | 149/250 [1:05:38<45:31, 27.04s/it]"
     ]
    },
    {
     "name": "stdout",
     "output_type": "stream",
     "text": [
      "Training Loss : 0.015372941615581512, Testing Loss : 0.5567900867462158, Training Accuracy : 0.99486, Testing Accuracy : 0.9096\n"
     ]
    },
    {
     "name": "stderr",
     "output_type": "stream",
     "text": [
      "\r",
      " 60%|██████    | 150/250 [1:06:05<44:54, 26.95s/it]"
     ]
    },
    {
     "name": "stdout",
     "output_type": "stream",
     "text": [
      "Training Loss : 0.014585240742862224, Testing Loss : 0.5446509436130523, Training Accuracy : 0.99488, Testing Accuracy : 0.9132\n"
     ]
    },
    {
     "name": "stderr",
     "output_type": "stream",
     "text": [
      "\r",
      " 60%|██████    | 151/250 [1:06:32<44:25, 26.92s/it]"
     ]
    },
    {
     "name": "stdout",
     "output_type": "stream",
     "text": [
      "Training Loss : 0.015075921089425683, Testing Loss : 0.5702629464149475, Training Accuracy : 0.99456, Testing Accuracy : 0.9103\n"
     ]
    },
    {
     "name": "stderr",
     "output_type": "stream",
     "text": [
      "\r",
      " 61%|██████    | 152/250 [1:06:58<43:55, 26.89s/it]"
     ]
    },
    {
     "name": "stdout",
     "output_type": "stream",
     "text": [
      "Training Loss : 0.014788837887980045, Testing Loss : 0.5420211339473724, Training Accuracy : 0.99482, Testing Accuracy : 0.912\n"
     ]
    },
    {
     "name": "stderr",
     "output_type": "stream",
     "text": [
      "\r",
      " 61%|██████    | 153/250 [1:07:25<43:33, 26.95s/it]"
     ]
    },
    {
     "name": "stdout",
     "output_type": "stream",
     "text": [
      "Training Loss : 0.012622225690037013, Testing Loss : 0.5811286093711853, Training Accuracy : 0.99566, Testing Accuracy : 0.9087\n"
     ]
    },
    {
     "name": "stderr",
     "output_type": "stream",
     "text": [
      "\r",
      " 62%|██████▏   | 154/250 [1:07:52<43:02, 26.90s/it]"
     ]
    },
    {
     "name": "stdout",
     "output_type": "stream",
     "text": [
      "Training Loss : 0.012952549238353967, Testing Loss : 0.5631852807044982, Training Accuracy : 0.9956, Testing Accuracy : 0.912\n"
     ]
    },
    {
     "name": "stderr",
     "output_type": "stream",
     "text": [
      "\r",
      " 62%|██████▏   | 155/250 [1:08:19<42:31, 26.86s/it]"
     ]
    },
    {
     "name": "stdout",
     "output_type": "stream",
     "text": [
      "Training Loss : 0.013654872044622898, Testing Loss : 0.5800985241889953, Training Accuracy : 0.99514, Testing Accuracy : 0.9101\n"
     ]
    },
    {
     "name": "stderr",
     "output_type": "stream",
     "text": [
      "\r",
      " 62%|██████▏   | 156/250 [1:08:46<42:11, 26.93s/it]"
     ]
    },
    {
     "name": "stdout",
     "output_type": "stream",
     "text": [
      "Training Loss : 0.013612867643609644, Testing Loss : 0.552546649646759, Training Accuracy : 0.99526, Testing Accuracy : 0.9134\n"
     ]
    },
    {
     "name": "stderr",
     "output_type": "stream",
     "text": [
      "\r",
      " 63%|██████▎   | 157/250 [1:09:14<42:03, 27.13s/it]"
     ]
    },
    {
     "name": "stdout",
     "output_type": "stream",
     "text": [
      "Training Loss : 0.01291822544977069, Testing Loss : 0.5668152265548706, Training Accuracy : 0.9956, Testing Accuracy : 0.9112\n"
     ]
    },
    {
     "name": "stderr",
     "output_type": "stream",
     "text": [
      "\r",
      " 63%|██████▎   | 158/250 [1:09:40<41:26, 27.03s/it]"
     ]
    },
    {
     "name": "stdout",
     "output_type": "stream",
     "text": [
      "Training Loss : 0.011882386883236468, Testing Loss : 0.5539439952850341, Training Accuracy : 0.99578, Testing Accuracy : 0.9164\n"
     ]
    },
    {
     "name": "stderr",
     "output_type": "stream",
     "text": [
      "\r",
      " 64%|██████▎   | 159/250 [1:10:07<40:58, 27.02s/it]"
     ]
    },
    {
     "name": "stdout",
     "output_type": "stream",
     "text": [
      "Training Loss : 0.012069313101880252, Testing Loss : 0.5885420775413513, Training Accuracy : 0.99606, Testing Accuracy : 0.9101\n"
     ]
    },
    {
     "name": "stderr",
     "output_type": "stream",
     "text": [
      "\r",
      " 64%|██████▍   | 160/250 [1:10:34<40:26, 26.96s/it]"
     ]
    },
    {
     "name": "stdout",
     "output_type": "stream",
     "text": [
      "Training Loss : 0.013013430776577442, Testing Loss : 0.5994982416152954, Training Accuracy : 0.99544, Testing Accuracy : 0.9088\n"
     ]
    },
    {
     "name": "stderr",
     "output_type": "stream",
     "text": [
      "\r",
      " 64%|██████▍   | 161/250 [1:11:01<39:53, 26.90s/it]"
     ]
    },
    {
     "name": "stdout",
     "output_type": "stream",
     "text": [
      "Training Loss : 0.014399361292049289, Testing Loss : 0.5578367023468017, Training Accuracy : 0.99514, Testing Accuracy : 0.9144\n"
     ]
    },
    {
     "name": "stderr",
     "output_type": "stream",
     "text": [
      "\r",
      " 65%|██████▍   | 162/250 [1:11:28<39:22, 26.85s/it]"
     ]
    },
    {
     "name": "stdout",
     "output_type": "stream",
     "text": [
      "Training Loss : 0.012118321329578758, Testing Loss : 0.5863743295669556, Training Accuracy : 0.996, Testing Accuracy : 0.9132\n"
     ]
    },
    {
     "name": "stderr",
     "output_type": "stream",
     "text": [
      "\r",
      " 65%|██████▌   | 163/250 [1:11:54<38:36, 26.62s/it]"
     ]
    },
    {
     "name": "stdout",
     "output_type": "stream",
     "text": [
      "Training Loss : 0.010659018568769097, Testing Loss : 0.5561371290683746, Training Accuracy : 0.99662, Testing Accuracy : 0.9155\n"
     ]
    },
    {
     "name": "stderr",
     "output_type": "stream",
     "text": [
      "\r",
      " 66%|██████▌   | 164/250 [1:12:20<37:58, 26.50s/it]"
     ]
    },
    {
     "name": "stdout",
     "output_type": "stream",
     "text": [
      "Training Loss : 0.010331333750560879, Testing Loss : 0.5540403871536255, Training Accuracy : 0.9966, Testing Accuracy : 0.916\n"
     ]
    },
    {
     "name": "stderr",
     "output_type": "stream",
     "text": [
      "\r",
      " 66%|██████▌   | 165/250 [1:12:46<37:30, 26.47s/it]"
     ]
    },
    {
     "name": "stdout",
     "output_type": "stream",
     "text": [
      "Training Loss : 0.01025109690465033, Testing Loss : 0.5380326621055603, Training Accuracy : 0.99642, Testing Accuracy : 0.9203\n"
     ]
    },
    {
     "name": "stderr",
     "output_type": "stream",
     "text": [
      "\r",
      " 66%|██████▋   | 166/250 [1:13:13<37:17, 26.64s/it]"
     ]
    },
    {
     "name": "stdout",
     "output_type": "stream",
     "text": [
      "Training Loss : 0.008611512441206724, Testing Loss : 0.563290593624115, Training Accuracy : 0.99702, Testing Accuracy : 0.9153\n"
     ]
    },
    {
     "name": "stderr",
     "output_type": "stream",
     "text": [
      "\r",
      " 67%|██████▋   | 167/250 [1:13:40<36:57, 26.72s/it]"
     ]
    },
    {
     "name": "stdout",
     "output_type": "stream",
     "text": [
      "Training Loss : 0.008400781745798886, Testing Loss : 0.5605632544517517, Training Accuracy : 0.9971, Testing Accuracy : 0.9182\n"
     ]
    },
    {
     "name": "stderr",
     "output_type": "stream",
     "text": [
      "\r",
      " 67%|██████▋   | 168/250 [1:14:06<36:14, 26.52s/it]"
     ]
    },
    {
     "name": "stdout",
     "output_type": "stream",
     "text": [
      "Training Loss : 0.006814441059529781, Testing Loss : 0.5887076224327087, Training Accuracy : 0.99772, Testing Accuracy : 0.9165\n"
     ]
    },
    {
     "name": "stderr",
     "output_type": "stream",
     "text": [
      "\r",
      " 68%|██████▊   | 169/250 [1:14:33<35:37, 26.39s/it]"
     ]
    },
    {
     "name": "stdout",
     "output_type": "stream",
     "text": [
      "Training Loss : 0.010625190801629797, Testing Loss : 0.5870706770569086, Training Accuracy : 0.99642, Testing Accuracy : 0.9144\n"
     ]
    },
    {
     "name": "stderr",
     "output_type": "stream",
     "text": [
      "\r",
      " 68%|██████▊   | 170/250 [1:14:59<35:12, 26.40s/it]"
     ]
    },
    {
     "name": "stdout",
     "output_type": "stream",
     "text": [
      "Training Loss : 0.009065761409783735, Testing Loss : 0.5918922134876251, Training Accuracy : 0.99682, Testing Accuracy : 0.9136\n"
     ]
    },
    {
     "name": "stderr",
     "output_type": "stream",
     "text": [
      "\r",
      " 68%|██████▊   | 171/250 [1:15:25<34:43, 26.38s/it]"
     ]
    },
    {
     "name": "stdout",
     "output_type": "stream",
     "text": [
      "Training Loss : 0.00822547130918596, Testing Loss : 0.5525635074973106, Training Accuracy : 0.99718, Testing Accuracy : 0.918\n"
     ]
    },
    {
     "name": "stderr",
     "output_type": "stream",
     "text": [
      "\r",
      " 69%|██████▉   | 172/250 [1:15:52<34:20, 26.42s/it]"
     ]
    },
    {
     "name": "stdout",
     "output_type": "stream",
     "text": [
      "Training Loss : 0.007989375893771649, Testing Loss : 0.5999885203838349, Training Accuracy : 0.99746, Testing Accuracy : 0.9108\n"
     ]
    },
    {
     "name": "stderr",
     "output_type": "stream",
     "text": [
      "\r",
      " 69%|██████▉   | 173/250 [1:16:18<33:48, 26.34s/it]"
     ]
    },
    {
     "name": "stdout",
     "output_type": "stream",
     "text": [
      "Training Loss : 0.009985585063882172, Testing Loss : 0.5726761923789978, Training Accuracy : 0.99676, Testing Accuracy : 0.9174\n"
     ]
    },
    {
     "name": "stderr",
     "output_type": "stream",
     "text": [
      "\r",
      " 70%|██████▉   | 174/250 [1:16:44<33:19, 26.31s/it]"
     ]
    },
    {
     "name": "stdout",
     "output_type": "stream",
     "text": [
      "Training Loss : 0.010288164209015668, Testing Loss : 0.5858353732407093, Training Accuracy : 0.99668, Testing Accuracy : 0.9119\n"
     ]
    },
    {
     "name": "stderr",
     "output_type": "stream",
     "text": [
      "\r",
      " 70%|███████   | 175/250 [1:17:10<32:45, 26.20s/it]"
     ]
    },
    {
     "name": "stdout",
     "output_type": "stream",
     "text": [
      "Training Loss : 0.009914630901720374, Testing Loss : 0.557060560464859, Training Accuracy : 0.9967, Testing Accuracy : 0.9166\n"
     ]
    },
    {
     "name": "stderr",
     "output_type": "stream",
     "text": [
      "\r",
      " 70%|███████   | 176/250 [1:17:36<32:18, 26.19s/it]"
     ]
    },
    {
     "name": "stdout",
     "output_type": "stream",
     "text": [
      "Training Loss : 0.00920127578882035, Testing Loss : 0.5392197216510772, Training Accuracy : 0.9971, Testing Accuracy : 0.9174\n"
     ]
    },
    {
     "name": "stderr",
     "output_type": "stream",
     "text": [
      "\r",
      " 71%|███████   | 177/250 [1:18:03<31:52, 26.21s/it]"
     ]
    },
    {
     "name": "stdout",
     "output_type": "stream",
     "text": [
      "Training Loss : 0.006886325698569417, Testing Loss : 0.5492316753864288, Training Accuracy : 0.9976, Testing Accuracy : 0.9179\n"
     ]
    },
    {
     "name": "stderr",
     "output_type": "stream",
     "text": [
      "\r",
      " 71%|███████   | 178/250 [1:18:29<31:36, 26.35s/it]"
     ]
    },
    {
     "name": "stdout",
     "output_type": "stream",
     "text": [
      "Training Loss : 0.00754626887424849, Testing Loss : 0.5730092293739318, Training Accuracy : 0.99746, Testing Accuracy : 0.9143\n"
     ]
    },
    {
     "name": "stderr",
     "output_type": "stream",
     "text": [
      "\r",
      " 72%|███████▏  | 179/250 [1:18:56<31:18, 26.46s/it]"
     ]
    },
    {
     "name": "stdout",
     "output_type": "stream",
     "text": [
      "Training Loss : 0.007452954027801752, Testing Loss : 0.5918884262084961, Training Accuracy : 0.99746, Testing Accuracy : 0.9151\n"
     ]
    },
    {
     "name": "stderr",
     "output_type": "stream",
     "text": [
      "\r",
      " 72%|███████▏  | 180/250 [1:19:22<30:49, 26.42s/it]"
     ]
    },
    {
     "name": "stdout",
     "output_type": "stream",
     "text": [
      "Training Loss : 0.008647807630132884, Testing Loss : 0.5789112906813622, Training Accuracy : 0.99722, Testing Accuracy : 0.9136\n"
     ]
    },
    {
     "name": "stderr",
     "output_type": "stream",
     "text": [
      "\r",
      " 72%|███████▏  | 181/250 [1:19:49<30:25, 26.45s/it]"
     ]
    },
    {
     "name": "stdout",
     "output_type": "stream",
     "text": [
      "Training Loss : 0.006654342172909528, Testing Loss : 0.5704589262008667, Training Accuracy : 0.99778, Testing Accuracy : 0.9207\n"
     ]
    },
    {
     "name": "stderr",
     "output_type": "stream",
     "text": [
      "\r",
      " 73%|███████▎  | 182/250 [1:20:15<30:01, 26.49s/it]"
     ]
    },
    {
     "name": "stdout",
     "output_type": "stream",
     "text": [
      "Training Loss : 0.005385328019475564, Testing Loss : 0.5501704971313477, Training Accuracy : 0.998, Testing Accuracy : 0.9231\n"
     ]
    },
    {
     "name": "stderr",
     "output_type": "stream",
     "text": [
      "\r",
      " 73%|███████▎  | 183/250 [1:20:42<29:31, 26.45s/it]"
     ]
    },
    {
     "name": "stdout",
     "output_type": "stream",
     "text": [
      "Training Loss : 0.004650930950241164, Testing Loss : 0.5834309497833252, Training Accuracy : 0.99844, Testing Accuracy : 0.9178\n"
     ]
    },
    {
     "name": "stderr",
     "output_type": "stream",
     "text": [
      "\r",
      " 74%|███████▎  | 184/250 [1:21:08<29:00, 26.37s/it]"
     ]
    },
    {
     "name": "stdout",
     "output_type": "stream",
     "text": [
      "Training Loss : 0.006215868015522138, Testing Loss : 0.569877018737793, Training Accuracy : 0.99776, Testing Accuracy : 0.9182\n"
     ]
    },
    {
     "name": "stderr",
     "output_type": "stream",
     "text": [
      "\r",
      " 74%|███████▍  | 185/250 [1:21:34<28:35, 26.39s/it]"
     ]
    },
    {
     "name": "stdout",
     "output_type": "stream",
     "text": [
      "Training Loss : 0.004456811990058049, Testing Loss : 0.5835630398750306, Training Accuracy : 0.9984, Testing Accuracy : 0.9185\n"
     ]
    },
    {
     "name": "stderr",
     "output_type": "stream",
     "text": [
      "\r",
      " 74%|███████▍  | 186/250 [1:22:01<28:15, 26.50s/it]"
     ]
    },
    {
     "name": "stdout",
     "output_type": "stream",
     "text": [
      "Training Loss : 0.004558638243139721, Testing Loss : 0.587602255153656, Training Accuracy : 0.99844, Testing Accuracy : 0.9196\n"
     ]
    },
    {
     "name": "stderr",
     "output_type": "stream",
     "text": [
      "\r",
      " 75%|███████▍  | 187/250 [1:22:28<27:57, 26.63s/it]"
     ]
    },
    {
     "name": "stdout",
     "output_type": "stream",
     "text": [
      "Training Loss : 0.004264834023178555, Testing Loss : 0.6062242887973786, Training Accuracy : 0.99844, Testing Accuracy : 0.9157\n"
     ]
    },
    {
     "name": "stderr",
     "output_type": "stream",
     "text": [
      "\r",
      " 75%|███████▌  | 188/250 [1:22:56<27:49, 26.93s/it]"
     ]
    },
    {
     "name": "stdout",
     "output_type": "stream",
     "text": [
      "Training Loss : 0.005830676633208059, Testing Loss : 0.6127443260192871, Training Accuracy : 0.99792, Testing Accuracy : 0.9159\n"
     ]
    },
    {
     "name": "stderr",
     "output_type": "stream",
     "text": [
      "\r",
      " 76%|███████▌  | 189/250 [1:23:22<27:14, 26.80s/it]"
     ]
    },
    {
     "name": "stdout",
     "output_type": "stream",
     "text": [
      "Training Loss : 0.0075668625569995495, Testing Loss : 0.6147348166465759, Training Accuracy : 0.99734, Testing Accuracy : 0.9154\n"
     ]
    },
    {
     "name": "stderr",
     "output_type": "stream",
     "text": [
      "\r",
      " 76%|███████▌  | 190/250 [1:23:49<26:46, 26.78s/it]"
     ]
    },
    {
     "name": "stdout",
     "output_type": "stream",
     "text": [
      "Training Loss : 0.0065310966707021, Testing Loss : 0.6090854772567749, Training Accuracy : 0.99746, Testing Accuracy : 0.9169\n"
     ]
    },
    {
     "name": "stderr",
     "output_type": "stream",
     "text": [
      "\r",
      " 76%|███████▋  | 191/250 [1:24:16<26:21, 26.81s/it]"
     ]
    },
    {
     "name": "stdout",
     "output_type": "stream",
     "text": [
      "Training Loss : 0.005490397082678974, Testing Loss : 0.5802035745143891, Training Accuracy : 0.99812, Testing Accuracy : 0.9196\n"
     ]
    },
    {
     "name": "stderr",
     "output_type": "stream",
     "text": [
      "\r",
      " 77%|███████▋  | 192/250 [1:24:42<25:50, 26.74s/it]"
     ]
    },
    {
     "name": "stdout",
     "output_type": "stream",
     "text": [
      "Training Loss : 0.0038753181521082296, Testing Loss : 0.5883825768947601, Training Accuracy : 0.9987, Testing Accuracy : 0.9205\n"
     ]
    },
    {
     "name": "stderr",
     "output_type": "stream",
     "text": [
      "\r",
      " 77%|███████▋  | 193/250 [1:25:09<25:17, 26.63s/it]"
     ]
    },
    {
     "name": "stdout",
     "output_type": "stream",
     "text": [
      "Training Loss : 0.0038287363765109332, Testing Loss : 0.5810608153820038, Training Accuracy : 0.99868, Testing Accuracy : 0.9206\n"
     ]
    },
    {
     "name": "stderr",
     "output_type": "stream",
     "text": [
      "\r",
      " 78%|███████▊  | 194/250 [1:25:35<24:48, 26.58s/it]"
     ]
    },
    {
     "name": "stdout",
     "output_type": "stream",
     "text": [
      "Training Loss : 0.004522804726753384, Testing Loss : 0.5861179061889649, Training Accuracy : 0.99854, Testing Accuracy : 0.9224\n"
     ]
    },
    {
     "name": "stderr",
     "output_type": "stream",
     "text": [
      "\r",
      " 78%|███████▊  | 195/250 [1:26:02<24:20, 26.56s/it]"
     ]
    },
    {
     "name": "stdout",
     "output_type": "stream",
     "text": [
      "Training Loss : 0.004915892004808411, Testing Loss : 0.5964957391738892, Training Accuracy : 0.99848, Testing Accuracy : 0.9178\n"
     ]
    },
    {
     "name": "stderr",
     "output_type": "stream",
     "text": [
      "\r",
      " 78%|███████▊  | 196/250 [1:26:28<23:55, 26.59s/it]"
     ]
    },
    {
     "name": "stdout",
     "output_type": "stream",
     "text": [
      "Training Loss : 0.005330842571633403, Testing Loss : 0.6074833764076233, Training Accuracy : 0.9982, Testing Accuracy : 0.9198\n"
     ]
    },
    {
     "name": "stderr",
     "output_type": "stream",
     "text": [
      "\r",
      " 79%|███████▉  | 197/250 [1:26:55<23:33, 26.67s/it]"
     ]
    },
    {
     "name": "stdout",
     "output_type": "stream",
     "text": [
      "Training Loss : 0.0064728785079065715, Testing Loss : 0.6322064695358276, Training Accuracy : 0.99752, Testing Accuracy : 0.9164\n"
     ]
    },
    {
     "name": "stderr",
     "output_type": "stream",
     "text": [
      "\r",
      " 79%|███████▉  | 198/250 [1:27:22<23:12, 26.79s/it]"
     ]
    },
    {
     "name": "stdout",
     "output_type": "stream",
     "text": [
      "Training Loss : 0.0060061425965372475, Testing Loss : 0.5937189204216003, Training Accuracy : 0.9979, Testing Accuracy : 0.9199\n"
     ]
    },
    {
     "name": "stderr",
     "output_type": "stream",
     "text": [
      "\r",
      " 80%|███████▉  | 199/250 [1:27:49<22:43, 26.73s/it]"
     ]
    },
    {
     "name": "stdout",
     "output_type": "stream",
     "text": [
      "Training Loss : 0.004463311494197697, Testing Loss : 0.5664551527576521, Training Accuracy : 0.99832, Testing Accuracy : 0.9221\n"
     ]
    },
    {
     "name": "stderr",
     "output_type": "stream",
     "text": [
      "\r",
      " 80%|████████  | 200/250 [1:28:16<22:17, 26.75s/it]"
     ]
    },
    {
     "name": "stdout",
     "output_type": "stream",
     "text": [
      "Training Loss : 0.002975734034893103, Testing Loss : 0.6054768063545227, Training Accuracy : 0.99932, Testing Accuracy : 0.9195\n"
     ]
    },
    {
     "name": "stderr",
     "output_type": "stream",
     "text": [
      "\r",
      " 80%|████████  | 201/250 [1:28:42<21:48, 26.71s/it]"
     ]
    },
    {
     "name": "stdout",
     "output_type": "stream",
     "text": [
      "Training Loss : 0.003617116096704267, Testing Loss : 0.5929012662887573, Training Accuracy : 0.99886, Testing Accuracy : 0.9205\n"
     ]
    },
    {
     "name": "stderr",
     "output_type": "stream",
     "text": [
      "\r",
      " 81%|████████  | 202/250 [1:29:09<21:19, 26.65s/it]"
     ]
    },
    {
     "name": "stdout",
     "output_type": "stream",
     "text": [
      "Training Loss : 0.0031419410813669675, Testing Loss : 0.6109832998991013, Training Accuracy : 0.99894, Testing Accuracy : 0.9214\n"
     ]
    },
    {
     "name": "stderr",
     "output_type": "stream",
     "text": [
      "\r",
      " 81%|████████  | 203/250 [1:29:36<20:53, 26.67s/it]"
     ]
    },
    {
     "name": "stdout",
     "output_type": "stream",
     "text": [
      "Training Loss : 0.002653263889560476, Testing Loss : 0.5865664585113526, Training Accuracy : 0.99916, Testing Accuracy : 0.9211\n"
     ]
    },
    {
     "name": "stderr",
     "output_type": "stream",
     "text": [
      "\r",
      " 82%|████████▏ | 204/250 [1:30:02<20:24, 26.61s/it]"
     ]
    },
    {
     "name": "stdout",
     "output_type": "stream",
     "text": [
      "Training Loss : 0.0031563297023531047, Testing Loss : 0.611682764339447, Training Accuracy : 0.9989, Testing Accuracy : 0.9199\n"
     ]
    },
    {
     "name": "stderr",
     "output_type": "stream",
     "text": [
      "\r",
      " 82%|████████▏ | 205/250 [1:30:28<19:53, 26.53s/it]"
     ]
    },
    {
     "name": "stdout",
     "output_type": "stream",
     "text": [
      "Training Loss : 0.002749620045260526, Testing Loss : 0.5924741804599762, Training Accuracy : 0.99894, Testing Accuracy : 0.9236\n"
     ]
    },
    {
     "name": "stderr",
     "output_type": "stream",
     "text": [
      "\r",
      " 82%|████████▏ | 206/250 [1:30:55<19:24, 26.47s/it]"
     ]
    },
    {
     "name": "stdout",
     "output_type": "stream",
     "text": [
      "Training Loss : 0.0032403206060291267, Testing Loss : 0.6155202736854554, Training Accuracy : 0.99884, Testing Accuracy : 0.9221\n"
     ]
    },
    {
     "name": "stderr",
     "output_type": "stream",
     "text": [
      "\r",
      " 83%|████████▎ | 207/250 [1:31:21<18:56, 26.43s/it]"
     ]
    },
    {
     "name": "stdout",
     "output_type": "stream",
     "text": [
      "Training Loss : 0.0029843843348068186, Testing Loss : 0.5824367500782013, Training Accuracy : 0.99896, Testing Accuracy : 0.925\n"
     ]
    },
    {
     "name": "stderr",
     "output_type": "stream",
     "text": [
      "\r",
      " 83%|████████▎ | 208/250 [1:31:48<18:32, 26.50s/it]"
     ]
    },
    {
     "name": "stdout",
     "output_type": "stream",
     "text": [
      "Training Loss : 0.002560733376457356, Testing Loss : 0.6057785519123078, Training Accuracy : 0.9993, Testing Accuracy : 0.9219\n"
     ]
    },
    {
     "name": "stderr",
     "output_type": "stream",
     "text": [
      "\r",
      " 84%|████████▎ | 209/250 [1:32:15<18:15, 26.73s/it]"
     ]
    },
    {
     "name": "stdout",
     "output_type": "stream",
     "text": [
      "Training Loss : 0.002258694717811886, Testing Loss : 0.5880192437171936, Training Accuracy : 0.99928, Testing Accuracy : 0.9258\n"
     ]
    },
    {
     "name": "stderr",
     "output_type": "stream",
     "text": [
      "\r",
      " 84%|████████▍ | 210/250 [1:32:42<17:51, 26.78s/it]"
     ]
    },
    {
     "name": "stdout",
     "output_type": "stream",
     "text": [
      "Training Loss : 0.002880579322485719, Testing Loss : 0.6195079845905304, Training Accuracy : 0.99916, Testing Accuracy : 0.92\n"
     ]
    },
    {
     "name": "stderr",
     "output_type": "stream",
     "text": [
      "\r",
      " 84%|████████▍ | 211/250 [1:33:08<17:14, 26.52s/it]"
     ]
    },
    {
     "name": "stdout",
     "output_type": "stream",
     "text": [
      "Training Loss : 0.0035457883540017067, Testing Loss : 0.6195963749647141, Training Accuracy : 0.99876, Testing Accuracy : 0.9188\n"
     ]
    },
    {
     "name": "stderr",
     "output_type": "stream",
     "text": [
      "\r",
      " 85%|████████▍ | 212/250 [1:33:34<16:48, 26.53s/it]"
     ]
    },
    {
     "name": "stdout",
     "output_type": "stream",
     "text": [
      "Training Loss : 0.004171007654201239, Testing Loss : 0.6343815560340882, Training Accuracy : 0.99824, Testing Accuracy : 0.9203\n"
     ]
    },
    {
     "name": "stderr",
     "output_type": "stream",
     "text": [
      "\r",
      " 85%|████████▌ | 213/250 [1:34:01<16:18, 26.44s/it]"
     ]
    },
    {
     "name": "stdout",
     "output_type": "stream",
     "text": [
      "Training Loss : 0.002381163015711354, Testing Loss : 0.6053537973403931, Training Accuracy : 0.99922, Testing Accuracy : 0.9224\n"
     ]
    },
    {
     "name": "stderr",
     "output_type": "stream",
     "text": [
      "\r",
      " 86%|████████▌ | 214/250 [1:34:27<15:50, 26.41s/it]"
     ]
    },
    {
     "name": "stdout",
     "output_type": "stream",
     "text": [
      "Training Loss : 0.002835414592490415, Testing Loss : 0.6277842664718628, Training Accuracy : 0.99906, Testing Accuracy : 0.9213\n"
     ]
    },
    {
     "name": "stderr",
     "output_type": "stream",
     "text": [
      "\r",
      " 86%|████████▌ | 215/250 [1:34:53<15:23, 26.37s/it]"
     ]
    },
    {
     "name": "stdout",
     "output_type": "stream",
     "text": [
      "Training Loss : 0.003751477515634615, Testing Loss : 0.6048751547336578, Training Accuracy : 0.9986, Testing Accuracy : 0.9252\n"
     ]
    },
    {
     "name": "stderr",
     "output_type": "stream",
     "text": [
      "\r",
      " 86%|████████▋ | 216/250 [1:35:19<14:55, 26.34s/it]"
     ]
    },
    {
     "name": "stdout",
     "output_type": "stream",
     "text": [
      "Training Loss : 0.002979903951958986, Testing Loss : 0.6013973103046417, Training Accuracy : 0.99892, Testing Accuracy : 0.9219\n"
     ]
    },
    {
     "name": "stderr",
     "output_type": "stream",
     "text": [
      "\r",
      " 87%|████████▋ | 217/250 [1:35:46<14:29, 26.35s/it]"
     ]
    },
    {
     "name": "stdout",
     "output_type": "stream",
     "text": [
      "Training Loss : 0.002459810128991958, Testing Loss : 0.5875344769477844, Training Accuracy : 0.99922, Testing Accuracy : 0.9264\n"
     ]
    },
    {
     "name": "stderr",
     "output_type": "stream",
     "text": [
      "\r",
      " 87%|████████▋ | 218/250 [1:36:12<14:02, 26.33s/it]"
     ]
    },
    {
     "name": "stdout",
     "output_type": "stream",
     "text": [
      "Training Loss : 0.002295237844219664, Testing Loss : 0.6023734040260315, Training Accuracy : 0.99924, Testing Accuracy : 0.9251\n"
     ]
    },
    {
     "name": "stderr",
     "output_type": "stream",
     "text": [
      "\r",
      " 88%|████████▊ | 219/250 [1:36:38<13:35, 26.32s/it]"
     ]
    },
    {
     "name": "stdout",
     "output_type": "stream",
     "text": [
      "Training Loss : 0.0018709578701958526, Testing Loss : 0.5968463658809662, Training Accuracy : 0.99944, Testing Accuracy : 0.9275\n"
     ]
    },
    {
     "name": "stderr",
     "output_type": "stream",
     "text": [
      "\r",
      " 88%|████████▊ | 220/250 [1:37:05<13:08, 26.30s/it]"
     ]
    },
    {
     "name": "stdout",
     "output_type": "stream",
     "text": [
      "Training Loss : 0.001985178904456552, Testing Loss : 0.6243729610443115, Training Accuracy : 0.9993, Testing Accuracy : 0.9224\n"
     ]
    },
    {
     "name": "stderr",
     "output_type": "stream",
     "text": [
      "\r",
      " 88%|████████▊ | 221/250 [1:37:31<12:46, 26.44s/it]"
     ]
    },
    {
     "name": "stdout",
     "output_type": "stream",
     "text": [
      "Training Loss : 0.0016656382336234675, Testing Loss : 0.6180417326748371, Training Accuracy : 0.9995, Testing Accuracy : 0.921\n"
     ]
    },
    {
     "name": "stderr",
     "output_type": "stream",
     "text": [
      "\r",
      " 89%|████████▉ | 222/250 [1:37:58<12:23, 26.55s/it]"
     ]
    },
    {
     "name": "stdout",
     "output_type": "stream",
     "text": [
      "Training Loss : 0.0022127704398671633, Testing Loss : 0.627197980594635, Training Accuracy : 0.9993, Testing Accuracy : 0.9232\n"
     ]
    },
    {
     "name": "stderr",
     "output_type": "stream",
     "text": [
      "\r",
      " 89%|████████▉ | 223/250 [1:38:25<11:55, 26.48s/it]"
     ]
    },
    {
     "name": "stdout",
     "output_type": "stream",
     "text": [
      "Training Loss : 0.0013698886724410114, Testing Loss : 0.5914170463562012, Training Accuracy : 0.99958, Testing Accuracy : 0.9255\n"
     ]
    },
    {
     "name": "stderr",
     "output_type": "stream",
     "text": [
      "\r",
      " 90%|████████▉ | 224/250 [1:38:51<11:27, 26.44s/it]"
     ]
    },
    {
     "name": "stdout",
     "output_type": "stream",
     "text": [
      "Training Loss : 0.0018441103333188221, Testing Loss : 0.608449295759201, Training Accuracy : 0.9993, Testing Accuracy : 0.9261\n"
     ]
    },
    {
     "name": "stderr",
     "output_type": "stream",
     "text": [
      "\r",
      " 90%|█████████ | 225/250 [1:39:17<11:01, 26.47s/it]"
     ]
    },
    {
     "name": "stdout",
     "output_type": "stream",
     "text": [
      "Training Loss : 0.0013719204770270153, Testing Loss : 0.6053210333347321, Training Accuracy : 0.99948, Testing Accuracy : 0.9246\n"
     ]
    },
    {
     "name": "stderr",
     "output_type": "stream",
     "text": [
      "\r",
      " 90%|█████████ | 226/250 [1:39:44<10:34, 26.44s/it]"
     ]
    },
    {
     "name": "stdout",
     "output_type": "stream",
     "text": [
      "Training Loss : 0.0014134635155263822, Testing Loss : 0.6240061766624451, Training Accuracy : 0.99962, Testing Accuracy : 0.9237\n"
     ]
    },
    {
     "name": "stderr",
     "output_type": "stream",
     "text": [
      "\r",
      " 91%|█████████ | 227/250 [1:40:13<10:30, 27.40s/it]"
     ]
    },
    {
     "name": "stdout",
     "output_type": "stream",
     "text": [
      "Training Loss : 0.0013764850440004374, Testing Loss : 0.6045062552452087, Training Accuracy : 0.99944, Testing Accuracy : 0.9246\n"
     ]
    },
    {
     "name": "stderr",
     "output_type": "stream",
     "text": [
      "\r",
      " 91%|█████████ | 228/250 [1:40:40<09:54, 27.04s/it]"
     ]
    },
    {
     "name": "stdout",
     "output_type": "stream",
     "text": [
      "Training Loss : 0.0016015278804773698, Testing Loss : 0.6103829581260681, Training Accuracy : 0.99944, Testing Accuracy : 0.923\n"
     ]
    },
    {
     "name": "stderr",
     "output_type": "stream",
     "text": [
      "\r",
      " 92%|█████████▏| 229/250 [1:41:06<09:23, 26.84s/it]"
     ]
    },
    {
     "name": "stdout",
     "output_type": "stream",
     "text": [
      "Training Loss : 0.002128805111427209, Testing Loss : 0.6088162171840668, Training Accuracy : 0.99942, Testing Accuracy : 0.9233\n"
     ]
    },
    {
     "name": "stderr",
     "output_type": "stream",
     "text": [
      "\r",
      " 92%|█████████▏| 230/250 [1:41:34<09:01, 27.07s/it]"
     ]
    },
    {
     "name": "stdout",
     "output_type": "stream",
     "text": [
      "Training Loss : 0.002033198710487923, Testing Loss : 0.5992584672898054, Training Accuracy : 0.9993, Testing Accuracy : 0.9229\n"
     ]
    },
    {
     "name": "stderr",
     "output_type": "stream",
     "text": [
      "\r",
      " 92%|█████████▏| 231/250 [1:42:00<08:30, 26.86s/it]"
     ]
    },
    {
     "name": "stdout",
     "output_type": "stream",
     "text": [
      "Training Loss : 0.0015577374780003446, Testing Loss : 0.6108234587669372, Training Accuracy : 0.99952, Testing Accuracy : 0.9252\n"
     ]
    },
    {
     "name": "stderr",
     "output_type": "stream",
     "text": [
      "\r",
      " 93%|█████████▎| 232/250 [1:42:26<08:00, 26.71s/it]"
     ]
    },
    {
     "name": "stdout",
     "output_type": "stream",
     "text": [
      "Training Loss : 0.001253026977389236, Testing Loss : 0.6139289394378662, Training Accuracy : 0.99962, Testing Accuracy : 0.9262\n"
     ]
    },
    {
     "name": "stderr",
     "output_type": "stream",
     "text": [
      "\r",
      " 93%|█████████▎| 233/250 [1:42:53<07:31, 26.57s/it]"
     ]
    },
    {
     "name": "stdout",
     "output_type": "stream",
     "text": [
      "Training Loss : 0.0016253842075579451, Testing Loss : 0.6215941365242005, Training Accuracy : 0.99952, Testing Accuracy : 0.926\n"
     ]
    },
    {
     "name": "stderr",
     "output_type": "stream",
     "text": [
      "\r",
      " 94%|█████████▎| 234/250 [1:43:19<07:05, 26.58s/it]"
     ]
    },
    {
     "name": "stdout",
     "output_type": "stream",
     "text": [
      "Training Loss : 0.001541277342880494, Testing Loss : 0.6205759595870972, Training Accuracy : 0.99948, Testing Accuracy : 0.9247\n"
     ]
    },
    {
     "name": "stderr",
     "output_type": "stream",
     "text": [
      "\r",
      " 94%|█████████▍| 235/250 [1:43:45<06:37, 26.47s/it]"
     ]
    },
    {
     "name": "stdout",
     "output_type": "stream",
     "text": [
      "Training Loss : 0.0021064079740922897, Testing Loss : 0.6331856090545654, Training Accuracy : 0.99918, Testing Accuracy : 0.9256\n"
     ]
    },
    {
     "name": "stderr",
     "output_type": "stream",
     "text": [
      "\r",
      " 94%|█████████▍| 236/250 [1:44:12<06:10, 26.46s/it]"
     ]
    },
    {
     "name": "stdout",
     "output_type": "stream",
     "text": [
      "Training Loss : 0.0013584383223584154, Testing Loss : 0.6170465211868286, Training Accuracy : 0.99954, Testing Accuracy : 0.9236\n"
     ]
    },
    {
     "name": "stderr",
     "output_type": "stream",
     "text": [
      "\r",
      " 95%|█████████▍| 237/250 [1:44:38<05:44, 26.49s/it]"
     ]
    },
    {
     "name": "stdout",
     "output_type": "stream",
     "text": [
      "Training Loss : 0.0013949180187203456, Testing Loss : 0.6072749994277954, Training Accuracy : 0.99964, Testing Accuracy : 0.9253\n"
     ]
    },
    {
     "name": "stderr",
     "output_type": "stream",
     "text": [
      "\r",
      " 95%|█████████▌| 238/250 [1:45:04<05:16, 26.34s/it]"
     ]
    },
    {
     "name": "stdout",
     "output_type": "stream",
     "text": [
      "Training Loss : 0.0012141634197183884, Testing Loss : 0.6140035674095153, Training Accuracy : 0.99948, Testing Accuracy : 0.9253\n"
     ]
    },
    {
     "name": "stderr",
     "output_type": "stream",
     "text": [
      "\r",
      " 96%|█████████▌| 239/250 [1:45:31<04:50, 26.37s/it]"
     ]
    },
    {
     "name": "stdout",
     "output_type": "stream",
     "text": [
      "Training Loss : 0.0008339259116275934, Testing Loss : 0.6104004228591919, Training Accuracy : 0.9998, Testing Accuracy : 0.925\n"
     ]
    },
    {
     "name": "stderr",
     "output_type": "stream",
     "text": [
      "\r",
      " 96%|█████████▌| 240/250 [1:45:58<04:26, 26.63s/it]"
     ]
    },
    {
     "name": "stdout",
     "output_type": "stream",
     "text": [
      "Training Loss : 0.0012357961172278738, Testing Loss : 0.620411268234253, Training Accuracy : 0.9997, Testing Accuracy : 0.9258\n"
     ]
    },
    {
     "name": "stderr",
     "output_type": "stream",
     "text": [
      "\r",
      " 96%|█████████▋| 241/250 [1:46:25<04:00, 26.69s/it]"
     ]
    },
    {
     "name": "stdout",
     "output_type": "stream",
     "text": [
      "Training Loss : 0.001043188593534287, Testing Loss : 0.6156965869903565, Training Accuracy : 0.99966, Testing Accuracy : 0.9265\n"
     ]
    },
    {
     "name": "stderr",
     "output_type": "stream",
     "text": [
      "\r",
      " 97%|█████████▋| 242/250 [1:46:51<03:32, 26.62s/it]"
     ]
    },
    {
     "name": "stdout",
     "output_type": "stream",
     "text": [
      "Training Loss : 0.000913664824301377, Testing Loss : 0.6049299931526184, Training Accuracy : 0.99976, Testing Accuracy : 0.9272\n"
     ]
    },
    {
     "name": "stderr",
     "output_type": "stream",
     "text": [
      "\r",
      " 97%|█████████▋| 243/250 [1:47:18<03:06, 26.58s/it]"
     ]
    },
    {
     "name": "stdout",
     "output_type": "stream",
     "text": [
      "Training Loss : 0.0011991098685911856, Testing Loss : 0.6198420593738556, Training Accuracy : 0.99954, Testing Accuracy : 0.9265\n"
     ]
    },
    {
     "name": "stderr",
     "output_type": "stream",
     "text": [
      "\r",
      " 98%|█████████▊| 244/250 [1:47:44<02:39, 26.50s/it]"
     ]
    },
    {
     "name": "stdout",
     "output_type": "stream",
     "text": [
      "Training Loss : 0.0008803195419441909, Testing Loss : 0.621066526556015, Training Accuracy : 0.9997, Testing Accuracy : 0.9268\n"
     ]
    },
    {
     "name": "stderr",
     "output_type": "stream",
     "text": [
      "\r",
      " 98%|█████████▊| 245/250 [1:48:10<02:11, 26.34s/it]"
     ]
    },
    {
     "name": "stdout",
     "output_type": "stream",
     "text": [
      "Training Loss : 0.0008848919468180975, Testing Loss : 0.622439088010788, Training Accuracy : 0.99976, Testing Accuracy : 0.9266\n"
     ]
    },
    {
     "name": "stderr",
     "output_type": "stream",
     "text": [
      "\r",
      " 98%|█████████▊| 246/250 [1:48:36<01:45, 26.28s/it]"
     ]
    },
    {
     "name": "stdout",
     "output_type": "stream",
     "text": [
      "Training Loss : 0.0009026928175135981, Testing Loss : 0.6333364132404328, Training Accuracy : 0.9997, Testing Accuracy : 0.9257\n"
     ]
    },
    {
     "name": "stderr",
     "output_type": "stream",
     "text": [
      "\r",
      " 99%|█████████▉| 247/250 [1:49:02<01:18, 26.19s/it]"
     ]
    },
    {
     "name": "stdout",
     "output_type": "stream",
     "text": [
      "Training Loss : 0.0008908989192027366, Testing Loss : 0.6346789823055268, Training Accuracy : 0.99972, Testing Accuracy : 0.927\n"
     ]
    },
    {
     "name": "stderr",
     "output_type": "stream",
     "text": [
      "\r",
      " 99%|█████████▉| 248/250 [1:49:28<00:52, 26.14s/it]"
     ]
    },
    {
     "name": "stdout",
     "output_type": "stream",
     "text": [
      "Training Loss : 0.0007050192270609841, Testing Loss : 0.631195631980896, Training Accuracy : 0.99978, Testing Accuracy : 0.9264\n"
     ]
    },
    {
     "name": "stderr",
     "output_type": "stream",
     "text": [
      "\r",
      "100%|█████████▉| 249/250 [1:49:54<00:26, 26.17s/it]"
     ]
    },
    {
     "name": "stdout",
     "output_type": "stream",
     "text": [
      "Training Loss : 0.0010950899481552187, Testing Loss : 0.6340502608299255, Training Accuracy : 0.9997, Testing Accuracy : 0.9261\n"
     ]
    },
    {
     "name": "stderr",
     "output_type": "stream",
     "text": [
      "100%|██████████| 250/250 [1:50:20<00:00, 26.48s/it]"
     ]
    },
    {
     "name": "stdout",
     "output_type": "stream",
     "text": [
      "Training Loss : 0.0013993840334474226, Testing Loss : 0.6596912388801575, Training Accuracy : 0.99958, Testing Accuracy : 0.9243\n"
     ]
    },
    {
     "name": "stderr",
     "output_type": "stream",
     "text": [
      "\n"
     ]
    }
   ],
   "source": [
    "# Training\n",
    "for i in tqdm(range(EPOCHS)):\n",
    "    \n",
    "    for phase in ['train', 'test']:\n",
    "        if phase == \"train\":\n",
    "            loader = trainLoader\n",
    "            model.train()\n",
    "            optimizer.zero_grad()\n",
    "        else:\n",
    "            loader = testLoader\n",
    "            model.eval()\n",
    "\n",
    "        cumulativeLoss = 0.0\n",
    "        cumulativeCorrects = 0\n",
    "        \n",
    "        for images, labels in loader:\n",
    "            images = images.to(device)\n",
    "            labels = labels.to(device)\n",
    "            output = model(images)\n",
    "            loss = lossFunction(output, labels)\n",
    "            predicted_labels = torch.argmax(output, dim=1)\n",
    "            #cumulativeLoss += loss.item()*images.size(0)\n",
    "            cumulativeLoss += loss.item()\n",
    "            cumulativeCorrects += torch.sum(predicted_labels == labels).float().item()\n",
    "            if phase == \"train\":\n",
    "                loss.backward()\n",
    "                optimizer.step()\n",
    "        \n",
    "        epoch_loss = cumulativeLoss/len(loader.dataset)\n",
    "        epoch_accuracy = cumulativeCorrects/len(loader.dataset)\n",
    "        if phase == \"train\":\n",
    "            scheduler.step()\n",
    "            training_loss.append(epoch_loss)\n",
    "            training_accuracy.append(epoch_accuracy)\n",
    "        else:\n",
    "            testing_loss.append(epoch_loss)\n",
    "            testing_accuracy.append(epoch_accuracy)\n",
    "            if epoch_accuracy > globalBestAccuracy:\n",
    "                globalBestAccuracy = epoch_accuracy\n",
    "                model.saveToDisk()\n",
    "\n",
    "    print(\"Training Loss : %s, Testing Loss : %s, Training Accuracy : %s, Testing Accuracy : %s\"\\\n",
    "          %(training_loss[-1], testing_loss[-1], training_accuracy[-1], testing_accuracy[-1]))"
   ]
  },
  {
   "cell_type": "code",
   "execution_count": 7,
   "metadata": {
    "colab": {
     "base_uri": "https://localhost:8080/"
    },
    "id": "sgjXlmwo8vVg",
    "outputId": "29661b19-170b-4ade-bcdd-e64353000d31"
   },
   "outputs": [
    {
     "data": {
      "text/plain": [
       "0.9275"
      ]
     },
     "execution_count": 7,
     "metadata": {},
     "output_type": "execute_result"
    }
   ],
   "source": [
    "# Getting the test accuracy\n",
    "print(\"Maximum Testing Accuracy Achieved: %s\"%(max(testing_accuracy)))\n",
    "xmax = np.argmax(testing_accuracy)\n",
    "ymax = max(testing_accuracy)"
   ]
  },
  {
   "cell_type": "code",
   "execution_count": 8,
   "metadata": {
    "id": "V9Mb4-qf8xYk"
   },
   "outputs": [],
   "source": [
    "# Plotting Train-Test Curve\n",
    "f, (ax1, ax2) = plt.subplots(1, 2, figsize=(20, 10))\n",
    "n = len(training_loss)\n",
    "ax1.plot(range(n), training_loss, '-', linewidth='3', label='Train Error')\n",
    "ax1.plot(range(n), testing_loss, '-', linewidth='3', label='Test Error')\n",
    "ax2.plot(range(n), training_accuracy, '-', linewidth='3', label='Train Accuracy')\n",
    "ax2.plot(range(n), testing_accuracy, '-', linewidth='3', label='Test Acuracy')\n",
    "ax2.annotate('max accuracy = %s'%(ymax), xy=(xmax, ymax), xytext=(xmax, ymax+0.15), arrowprops=dict(facecolor='black', shrink=0.05))\n",
    "ax1.grid(True)\n",
    "ax2.grid(True)\n",
    "ax1.legend()\n",
    "ax2.legend()\n",
    "f.savefig(\"./train_test_curve.png\")"
   ]
  },
  {
   "cell_type": "markdown",
   "metadata": {
    "id": "zqU5OXQccRZ6"
   },
   "source": [
    "![train_test_curve.png](data:image/png;base64,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)"
   ]
  },
  {
   "cell_type": "code",
   "execution_count": null,
   "metadata": {
    "id": "KeprTXzzVSz1"
   },
   "outputs": [],
   "source": []
  }
 ],
 "metadata": {
  "accelerator": "GPU",
  "colab": {
   "provenance": []
  },
  "gpuClass": "standard",
  "kernelspec": {
   "display_name": "Python 3.10 (pytorch)",
   "language": "python",
   "name": "pytorch"
  },
  "language_info": {
   "codemirror_mode": {
    "name": "ipython",
    "version": 3
   },
   "file_extension": ".py",
   "mimetype": "text/x-python",
   "name": "python",
   "nbconvert_exporter": "python",
   "pygments_lexer": "ipython3",
   "version": "3.10.10"
  },
  "varInspector": {
   "cols": {
    "lenName": 16,
    "lenType": 16,
    "lenVar": 40
   },
   "kernels_config": {
    "python": {
     "delete_cmd_postfix": "",
     "delete_cmd_prefix": "del ",
     "library": "var_list.py",
     "varRefreshCmd": "print(var_dic_list())"
    },
    "r": {
     "delete_cmd_postfix": ") ",
     "delete_cmd_prefix": "rm(",
     "library": "var_list.r",
     "varRefreshCmd": "cat(var_dic_list()) "
    }
   },
   "types_to_exclude": [
    "module",
    "function",
    "builtin_function_or_method",
    "instance",
    "_Feature"
   ],
   "window_display": false
  }
 },
 "nbformat": 4,
 "nbformat_minor": 1
}
